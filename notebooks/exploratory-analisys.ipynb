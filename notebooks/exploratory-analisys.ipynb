{
 "cells": [
  {
   "cell_type": "markdown",
   "metadata": {},
   "source": [
    "# Exploratory Analisys\n"
   ]
  },
  {
   "cell_type": "code",
   "execution_count": null,
   "metadata": {},
   "outputs": [],
   "source": [
    "import os\n",
    "\n",
    "os.chdir(\"..\")\n",
    "\n",
    "os.getcwd()"
   ]
  },
  {
   "cell_type": "code",
   "execution_count": null,
   "metadata": {},
   "outputs": [],
   "source": [
    "from pathlib import Path\n",
    "\n",
    "import pandas as pd\n",
    "import mplfinance as mpf\n",
    "\n",
    "from scripts.preprocess import Script as Preprocess_script\n",
    "from scripts.pull_datasets import Script as Pull_datasets_script"
   ]
  },
  {
   "cell_type": "markdown",
   "metadata": {},
   "source": [
    "## Fetch datasets"
   ]
  },
  {
   "cell_type": "code",
   "execution_count": null,
   "metadata": {},
   "outputs": [],
   "source": [
    "BASE_URL = \"https://data.binance.vision/data/futures/cm/daily/bookTicker/\"\n",
    "\n",
    "datasets= {\n",
    "    \"ADA\": [\n",
    "        f\"{BASE_URL}ADAUSD_PERP/ADAUSD_PERP-bookTicker-2024-05-16.zip\",\n",
    "        f\"{BASE_URL}ADAUSD_PERP/ADAUSD_PERP-bookTicker-2024-05-17.zip\",\n",
    "        f\"{BASE_URL}ADAUSD_PERP/ADAUSD_PERP-bookTicker-2024-05-18.zip\",\n",
    "    ],\n",
    "    \"AXS\": [\n",
    "        f\"{BASE_URL}AXSUSD_PERP/AXSUSD_PERP-bookTicker-2024-05-16.zip\",\n",
    "        f\"{BASE_URL}AXSUSD_PERP/AXSUSD_PERP-bookTicker-2024-05-17.zip\",\n",
    "        f\"{BASE_URL}AXSUSD_PERP/AXSUSD_PERP-bookTicker-2024-05-18.zip\",\n",
    "    ],\n",
    "    \"BTC\": [\n",
    "        f\"{BASE_URL}BTCUSD_PERP/BTCUSD_PERP-bookTicker-2024-05-16.zip\",\n",
    "        f\"{BASE_URL}BTCUSD_PERP/BTCUSD_PERP-bookTicker-2024-05-17.zip\",\n",
    "        f\"{BASE_URL}BTCUSD_PERP/BTCUSD_PERP-bookTicker-2024-05-18.zip\",\n",
    "    ],\n",
    "    \"DOGE\": [\n",
    "        f\"{BASE_URL}DOGEUSD_PERP/DOGEUSD_PERP-bookTicker-2024-05-16.zip\",\n",
    "        f\"{BASE_URL}DOGEUSD_PERP/DOGEUSD_PERP-bookTicker-2024-05-17.zip\",\n",
    "        f\"{BASE_URL}DOGEUSD_PERP/DOGEUSD_PERP-bookTicker-2024-05-18.zip\",\n",
    "    ],\n",
    "    \"NEAR\": [\n",
    "        f\"{BASE_URL}NEARUSD_PERP/NEARUSD_PERP-bookTicker-2024-05-16.zip\",\n",
    "        f\"{BASE_URL}NEARUSD_PERP/NEARUSD_PERP-bookTicker-2024-05-17.zip\",\n",
    "        f\"{BASE_URL}NEARUSD_PERP/NEARUSD_PERP-bookTicker-2024-05-18.zip\",\n",
    "    ],\n",
    "}"
   ]
  },
  {
   "cell_type": "code",
   "execution_count": null,
   "metadata": {},
   "outputs": [],
   "source": [
    "Pull_datasets_script.pull_datasets(datasets)"
   ]
  },
  {
   "cell_type": "markdown",
   "metadata": {},
   "source": [
    "## Run Preprocessing script"
   ]
  },
  {
   "cell_type": "code",
   "execution_count": null,
   "metadata": {},
   "outputs": [],
   "source": [
    "for ticker in datasets.keys():\n",
    "    Preprocess_script(ticker).preprocess()"
   ]
  },
  {
   "cell_type": "markdown",
   "metadata": {},
   "source": [
    "## Build Open-High-Low-Close charts of `mid_price` for each day"
   ]
  },
  {
   "cell_type": "code",
   "execution_count": null,
   "metadata": {},
   "outputs": [],
   "source": [
    "basedir = Path.cwd()\n",
    "datadir = basedir / \"data\"\n",
    "\n",
    "def load_parquet(filename: str):\n",
    "    df = pd.read_parquet(filename)\n",
    "    df[\"event_time\"] = pd.to_datetime(df[\"event_time\"], unit=\"ms\")\n",
    "\n",
    "    return df.set_index(\"event_time\")\n",
    "\n",
    "def to_ohlc(df: pd.DataFrame, column: str, pattern: str = \"1h\"):\n",
    "    df = df.resample(pattern).agg({column: [\"first\", \"max\", \"min\", \"last\", \"count\"]})\n",
    "    df.columns = [\"Open\", \"High\", \"Low\", \"Close\", \"Volume\"]\n",
    "\n",
    "    return df\n"
   ]
  },
  {
   "cell_type": "code",
   "execution_count": null,
   "metadata": {},
   "outputs": [],
   "source": [
    "resultsdir = basedir / \"assets\" / \"image\"\n",
    "\n",
    "resultsdir.mkdir(parents=True, exist_ok=True)\n",
    "\n",
    "for datafile in datadir.glob(\"**/*.parquet\"):\n",
    "    df = load_parquet(datafile)\n",
    "    data = to_ohlc(df, \"mid_price\", \"1h\")\n",
    "    title = datafile.stem.replace(\"_\", \" \").replace(\"-\", \" - \")\n",
    "\n",
    "    mpf.plot(\n",
    "        data=data,\n",
    "        type=\"candle\",\n",
    "        style=\"binance\",\n",
    "        volume=True,\n",
    "        title=title,\n",
    "        savefig=resultsdir / (datafile.stem + \"-ohlc.svg\"),\n",
    "    )\n"
   ]
  }
 ],
 "metadata": {
  "kernelspec": {
   "display_name": "Python 3",
   "language": "python",
   "name": "python3"
  },
  "language_info": {
   "codemirror_mode": {
    "name": "ipython",
    "version": 3
   },
   "file_extension": ".py",
   "mimetype": "text/x-python",
   "name": "python",
   "nbconvert_exporter": "python",
   "pygments_lexer": "ipython3",
   "version": "3.12.3"
  }
 },
 "nbformat": 4,
 "nbformat_minor": 2
}
