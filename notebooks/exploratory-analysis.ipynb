{
 "cells": [
  {
   "cell_type": "markdown",
   "metadata": {},
   "source": [
    "# Exploratory Analysis\n"
   ]
  },
  {
   "cell_type": "code",
   "execution_count": 1,
   "metadata": {},
   "outputs": [
    {
     "data": {
      "text/plain": [
       "'c:\\\\Users\\\\luisa\\\\Documents\\\\Pasta pessoal\\\\Insper\\\\Machine Learning\\\\Projetos\\\\Stock-Price-Prediction'"
      ]
     },
     "execution_count": 1,
     "metadata": {},
     "output_type": "execute_result"
    }
   ],
   "source": [
    "import os\n",
    "\n",
    "os.chdir(\"..\")\n",
    "\n",
    "os.getcwd()"
   ]
  },
  {
   "cell_type": "code",
   "execution_count": 2,
   "metadata": {},
   "outputs": [],
   "source": [
    "from pathlib import Path\n",
    "\n",
    "import pandas as pd\n",
    "import mplfinance as mpf\n",
    "\n",
    "from scripts.preprocess import Script as Preprocess_script\n",
    "from scripts.pull_datasets import Script as Pull_datasets_script"
   ]
  },
  {
   "cell_type": "markdown",
   "metadata": {},
   "source": [
    "## Fetch datasets"
   ]
  },
  {
   "cell_type": "code",
   "execution_count": 3,
   "metadata": {},
   "outputs": [],
   "source": [
    "BASE_URL = \"https://data.binance.vision/data/futures/cm/daily/bookTicker/\"\n",
    "\n",
    "datasets= {\n",
    "    \"ADA\": [\n",
    "        f\"{BASE_URL}ADAUSD_PERP/ADAUSD_PERP-bookTicker-2024-05-16.zip\",\n",
    "        f\"{BASE_URL}ADAUSD_PERP/ADAUSD_PERP-bookTicker-2024-05-17.zip\",\n",
    "        f\"{BASE_URL}ADAUSD_PERP/ADAUSD_PERP-bookTicker-2024-05-18.zip\",\n",
    "        f\"{BASE_URL}ADAUSD_PERP/ADAUSD_PERP-bookTicker-2024-05-19.zip\",\n",
    "        f\"{BASE_URL}ADAUSD_PERP/ADAUSD_PERP-bookTicker-2024-05-20.zip\",\n",
    "    ],\n",
    "    \"AXS\": [\n",
    "        f\"{BASE_URL}AXSUSD_PERP/AXSUSD_PERP-bookTicker-2024-05-16.zip\",\n",
    "        f\"{BASE_URL}AXSUSD_PERP/AXSUSD_PERP-bookTicker-2024-05-17.zip\",\n",
    "        f\"{BASE_URL}AXSUSD_PERP/AXSUSD_PERP-bookTicker-2024-05-18.zip\",\n",
    "        f\"{BASE_URL}AXSUSD_PERP/AXSUSD_PERP-bookTicker-2024-05-19.zip\",\n",
    "        f\"{BASE_URL}AXSUSD_PERP/AXSUSD_PERP-bookTicker-2024-05-20.zip\",\n",
    "    ],\n",
    "    \"BTC\": [\n",
    "        f\"{BASE_URL}BTCUSD_PERP/BTCUSD_PERP-bookTicker-2024-05-16.zip\",\n",
    "        f\"{BASE_URL}BTCUSD_PERP/BTCUSD_PERP-bookTicker-2024-05-17.zip\",\n",
    "        f\"{BASE_URL}BTCUSD_PERP/BTCUSD_PERP-bookTicker-2024-05-18.zip\",\n",
    "        f\"{BASE_URL}BTCUSD_PERP/BTCUSD_PERP-bookTicker-2024-05-19.zip\",\n",
    "        f\"{BASE_URL}BTCUSD_PERP/BTCUSD_PERP-bookTicker-2024-05-20.zip\",\n",
    "    ],\n",
    "    \"DOGE\": [\n",
    "        f\"{BASE_URL}DOGEUSD_PERP/DOGEUSD_PERP-bookTicker-2024-05-16.zip\",\n",
    "        f\"{BASE_URL}DOGEUSD_PERP/DOGEUSD_PERP-bookTicker-2024-05-17.zip\",\n",
    "        f\"{BASE_URL}DOGEUSD_PERP/DOGEUSD_PERP-bookTicker-2024-05-18.zip\",\n",
    "        f\"{BASE_URL}DOGEUSD_PERP/DOGEUSD_PERP-bookTicker-2024-05-19.zip\",\n",
    "        f\"{BASE_URL}DOGEUSD_PERP/DOGEUSD_PERP-bookTicker-2024-05-20.zip\",\n",
    "    ],\n",
    "    \"NEAR\": [\n",
    "        f\"{BASE_URL}NEARUSD_PERP/NEARUSD_PERP-bookTicker-2024-05-16.zip\",\n",
    "        f\"{BASE_URL}NEARUSD_PERP/NEARUSD_PERP-bookTicker-2024-05-17.zip\",\n",
    "        f\"{BASE_URL}NEARUSD_PERP/NEARUSD_PERP-bookTicker-2024-05-18.zip\",\n",
    "        f\"{BASE_URL}NEARUSD_PERP/NEARUSD_PERP-bookTicker-2024-05-19.zip\",\n",
    "        f\"{BASE_URL}NEARUSD_PERP/NEARUSD_PERP-bookTicker-2024-05-20.zip\",\n",
    "    ],\n",
    "}"
   ]
  },
  {
   "cell_type": "code",
   "execution_count": 4,
   "metadata": {},
   "outputs": [
    {
     "name": "stdout",
     "output_type": "stream",
     "text": [
      "Successfully processed https://data.binance.vision/data/futures/cm/daily/bookTicker/AXSUSD_PERP/AXSUSD_PERP-bookTicker-2024-05-18.zip\n",
      "Successfully processed https://data.binance.vision/data/futures/cm/daily/bookTicker/AXSUSD_PERP/AXSUSD_PERP-bookTicker-2024-05-19.zip\n",
      "Successfully processed https://data.binance.vision/data/futures/cm/daily/bookTicker/AXSUSD_PERP/AXSUSD_PERP-bookTicker-2024-05-17.zip\n",
      "Successfully processed https://data.binance.vision/data/futures/cm/daily/bookTicker/AXSUSD_PERP/AXSUSD_PERP-bookTicker-2024-05-20.zip\n",
      "Successfully processed https://data.binance.vision/data/futures/cm/daily/bookTicker/AXSUSD_PERP/AXSUSD_PERP-bookTicker-2024-05-16.zip\n",
      "Successfully processed https://data.binance.vision/data/futures/cm/daily/bookTicker/ADAUSD_PERP/ADAUSD_PERP-bookTicker-2024-05-19.zip\n",
      "Successfully processed https://data.binance.vision/data/futures/cm/daily/bookTicker/ADAUSD_PERP/ADAUSD_PERP-bookTicker-2024-05-17.zip\n",
      "Successfully processed https://data.binance.vision/data/futures/cm/daily/bookTicker/ADAUSD_PERP/ADAUSD_PERP-bookTicker-2024-05-18.zip\n",
      "Successfully processed https://data.binance.vision/data/futures/cm/daily/bookTicker/DOGEUSD_PERP/DOGEUSD_PERP-bookTicker-2024-05-16.zip\n",
      "Successfully processed https://data.binance.vision/data/futures/cm/daily/bookTicker/DOGEUSD_PERP/DOGEUSD_PERP-bookTicker-2024-05-18.zip\n",
      "Successfully processed https://data.binance.vision/data/futures/cm/daily/bookTicker/NEARUSD_PERP/NEARUSD_PERP-bookTicker-2024-05-16.zip\n",
      "Successfully processed https://data.binance.vision/data/futures/cm/daily/bookTicker/ADAUSD_PERP/ADAUSD_PERP-bookTicker-2024-05-16.zip\n",
      "Successfully processed https://data.binance.vision/data/futures/cm/daily/bookTicker/DOGEUSD_PERP/DOGEUSD_PERP-bookTicker-2024-05-19.zip\n",
      "Successfully processed https://data.binance.vision/data/futures/cm/daily/bookTicker/NEARUSD_PERP/NEARUSD_PERP-bookTicker-2024-05-18.zip\n",
      "Successfully processed https://data.binance.vision/data/futures/cm/daily/bookTicker/ADAUSD_PERP/ADAUSD_PERP-bookTicker-2024-05-20.zip\n",
      "Successfully processed https://data.binance.vision/data/futures/cm/daily/bookTicker/DOGEUSD_PERP/DOGEUSD_PERP-bookTicker-2024-05-17.zip\n",
      "Successfully processed https://data.binance.vision/data/futures/cm/daily/bookTicker/NEARUSD_PERP/NEARUSD_PERP-bookTicker-2024-05-17.zip\n",
      "Successfully processed https://data.binance.vision/data/futures/cm/daily/bookTicker/DOGEUSD_PERP/DOGEUSD_PERP-bookTicker-2024-05-20.zip\n",
      "Successfully processed https://data.binance.vision/data/futures/cm/daily/bookTicker/NEARUSD_PERP/NEARUSD_PERP-bookTicker-2024-05-19.zip\n",
      "Successfully processed https://data.binance.vision/data/futures/cm/daily/bookTicker/NEARUSD_PERP/NEARUSD_PERP-bookTicker-2024-05-20.zip\n",
      "Successfully processed https://data.binance.vision/data/futures/cm/daily/bookTicker/BTCUSD_PERP/BTCUSD_PERP-bookTicker-2024-05-19.zip\n",
      "Successfully processed https://data.binance.vision/data/futures/cm/daily/bookTicker/BTCUSD_PERP/BTCUSD_PERP-bookTicker-2024-05-18.zip\n",
      "Successfully processed https://data.binance.vision/data/futures/cm/daily/bookTicker/BTCUSD_PERP/BTCUSD_PERP-bookTicker-2024-05-16.zip\n",
      "Successfully processed https://data.binance.vision/data/futures/cm/daily/bookTicker/BTCUSD_PERP/BTCUSD_PERP-bookTicker-2024-05-20.zip\n",
      "Successfully processed https://data.binance.vision/data/futures/cm/daily/bookTicker/BTCUSD_PERP/BTCUSD_PERP-bookTicker-2024-05-17.zip\n"
     ]
    },
    {
     "data": {
      "text/plain": [
       "[None,\n",
       " None,\n",
       " None,\n",
       " None,\n",
       " None,\n",
       " None,\n",
       " None,\n",
       " None,\n",
       " None,\n",
       " None,\n",
       " None,\n",
       " None,\n",
       " None,\n",
       " None,\n",
       " None,\n",
       " None,\n",
       " None,\n",
       " None,\n",
       " None,\n",
       " None,\n",
       " None,\n",
       " None,\n",
       " None,\n",
       " None,\n",
       " None]"
      ]
     },
     "execution_count": 4,
     "metadata": {},
     "output_type": "execute_result"
    }
   ],
   "source": [
    "Pull_datasets_script.pull_datasets(datasets)"
   ]
  },
  {
   "cell_type": "markdown",
   "metadata": {},
   "source": [
    "## Run Preprocessing script"
   ]
  },
  {
   "cell_type": "code",
   "execution_count": 5,
   "metadata": {},
   "outputs": [
    {
     "name": "stdout",
     "output_type": "stream",
     "text": [
      "[WindowsPath('c:/Users/luisa/Documents/Pasta pessoal/Insper/Machine Learning/Projetos/Stock-Price-Prediction/data/tickers/ADA/ADAUSD_PERP-bookTicker-2024-05-16.csv'), WindowsPath('c:/Users/luisa/Documents/Pasta pessoal/Insper/Machine Learning/Projetos/Stock-Price-Prediction/data/tickers/ADA/ADAUSD_PERP-bookTicker-2024-05-17.csv'), WindowsPath('c:/Users/luisa/Documents/Pasta pessoal/Insper/Machine Learning/Projetos/Stock-Price-Prediction/data/tickers/ADA/ADAUSD_PERP-bookTicker-2024-05-18.csv'), WindowsPath('c:/Users/luisa/Documents/Pasta pessoal/Insper/Machine Learning/Projetos/Stock-Price-Prediction/data/tickers/ADA/ADAUSD_PERP-bookTicker-2024-05-19.csv'), WindowsPath('c:/Users/luisa/Documents/Pasta pessoal/Insper/Machine Learning/Projetos/Stock-Price-Prediction/data/tickers/ADA/ADAUSD_PERP-bookTicker-2024-05-20.csv')]\n",
      "[WindowsPath('c:/Users/luisa/Documents/Pasta pessoal/Insper/Machine Learning/Projetos/Stock-Price-Prediction/data/tickers/AXS/AXSUSD_PERP-bookTicker-2024-05-16.csv'), WindowsPath('c:/Users/luisa/Documents/Pasta pessoal/Insper/Machine Learning/Projetos/Stock-Price-Prediction/data/tickers/AXS/AXSUSD_PERP-bookTicker-2024-05-17.csv'), WindowsPath('c:/Users/luisa/Documents/Pasta pessoal/Insper/Machine Learning/Projetos/Stock-Price-Prediction/data/tickers/AXS/AXSUSD_PERP-bookTicker-2024-05-18.csv'), WindowsPath('c:/Users/luisa/Documents/Pasta pessoal/Insper/Machine Learning/Projetos/Stock-Price-Prediction/data/tickers/AXS/AXSUSD_PERP-bookTicker-2024-05-19.csv'), WindowsPath('c:/Users/luisa/Documents/Pasta pessoal/Insper/Machine Learning/Projetos/Stock-Price-Prediction/data/tickers/AXS/AXSUSD_PERP-bookTicker-2024-05-20.csv')]\n",
      "[WindowsPath('c:/Users/luisa/Documents/Pasta pessoal/Insper/Machine Learning/Projetos/Stock-Price-Prediction/data/tickers/BTC/BTCUSD_PERP-bookTicker-2024-05-16.csv'), WindowsPath('c:/Users/luisa/Documents/Pasta pessoal/Insper/Machine Learning/Projetos/Stock-Price-Prediction/data/tickers/BTC/BTCUSD_PERP-bookTicker-2024-05-17.csv'), WindowsPath('c:/Users/luisa/Documents/Pasta pessoal/Insper/Machine Learning/Projetos/Stock-Price-Prediction/data/tickers/BTC/BTCUSD_PERP-bookTicker-2024-05-18.csv'), WindowsPath('c:/Users/luisa/Documents/Pasta pessoal/Insper/Machine Learning/Projetos/Stock-Price-Prediction/data/tickers/BTC/BTCUSD_PERP-bookTicker-2024-05-19.csv'), WindowsPath('c:/Users/luisa/Documents/Pasta pessoal/Insper/Machine Learning/Projetos/Stock-Price-Prediction/data/tickers/BTC/BTCUSD_PERP-bookTicker-2024-05-20.csv')]\n",
      "[WindowsPath('c:/Users/luisa/Documents/Pasta pessoal/Insper/Machine Learning/Projetos/Stock-Price-Prediction/data/tickers/DOGE/DOGEUSD_PERP-bookTicker-2024-05-16.csv'), WindowsPath('c:/Users/luisa/Documents/Pasta pessoal/Insper/Machine Learning/Projetos/Stock-Price-Prediction/data/tickers/DOGE/DOGEUSD_PERP-bookTicker-2024-05-17.csv'), WindowsPath('c:/Users/luisa/Documents/Pasta pessoal/Insper/Machine Learning/Projetos/Stock-Price-Prediction/data/tickers/DOGE/DOGEUSD_PERP-bookTicker-2024-05-18.csv'), WindowsPath('c:/Users/luisa/Documents/Pasta pessoal/Insper/Machine Learning/Projetos/Stock-Price-Prediction/data/tickers/DOGE/DOGEUSD_PERP-bookTicker-2024-05-19.csv'), WindowsPath('c:/Users/luisa/Documents/Pasta pessoal/Insper/Machine Learning/Projetos/Stock-Price-Prediction/data/tickers/DOGE/DOGEUSD_PERP-bookTicker-2024-05-20.csv')]\n",
      "[WindowsPath('c:/Users/luisa/Documents/Pasta pessoal/Insper/Machine Learning/Projetos/Stock-Price-Prediction/data/tickers/NEAR/NEARUSD_PERP-bookTicker-2024-05-16.csv'), WindowsPath('c:/Users/luisa/Documents/Pasta pessoal/Insper/Machine Learning/Projetos/Stock-Price-Prediction/data/tickers/NEAR/NEARUSD_PERP-bookTicker-2024-05-17.csv'), WindowsPath('c:/Users/luisa/Documents/Pasta pessoal/Insper/Machine Learning/Projetos/Stock-Price-Prediction/data/tickers/NEAR/NEARUSD_PERP-bookTicker-2024-05-18.csv'), WindowsPath('c:/Users/luisa/Documents/Pasta pessoal/Insper/Machine Learning/Projetos/Stock-Price-Prediction/data/tickers/NEAR/NEARUSD_PERP-bookTicker-2024-05-19.csv'), WindowsPath('c:/Users/luisa/Documents/Pasta pessoal/Insper/Machine Learning/Projetos/Stock-Price-Prediction/data/tickers/NEAR/NEARUSD_PERP-bookTicker-2024-05-20.csv')]\n"
     ]
    }
   ],
   "source": [
    "for ticker in datasets.keys():\n",
    "\n",
    "    print(list(Preprocess_script(ticker).data_dir.glob(\"*\")))\n",
    "\n",
    "    Preprocess_script(ticker).preprocess()"
   ]
  },
  {
   "cell_type": "markdown",
   "metadata": {},
   "source": [
    "## Build Open-High-Low-Close charts of `mid_price` for each day"
   ]
  },
  {
   "cell_type": "code",
   "execution_count": 8,
   "metadata": {},
   "outputs": [],
   "source": [
    "basedir = Path.cwd()\n",
    "datadir = basedir / \"data\"\n",
    "\n",
    "def load_parquet(filename: str):\n",
    "    df = pd.read_parquet(filename)\n",
    "    df[\"event_time\"] = pd.to_datetime(df[\"event_time\"], unit=\"ms\")\n",
    "\n",
    "    return df.set_index(\"event_time\")\n",
    "\n",
    "def to_ohlc(df: pd.DataFrame, column: str, pattern: str = \"1h\"):\n",
    "    df = df.resample(pattern).agg({column: [\"first\", \"max\", \"min\", \"last\", \"count\"]})\n",
    "    df.columns = [\"Open\", \"High\", \"Low\", \"Close\", \"Volume\"]\n",
    "\n",
    "    return df\n"
   ]
  },
  {
   "cell_type": "code",
   "execution_count": 9,
   "metadata": {},
   "outputs": [
    {
     "ename": "TypeError",
     "evalue": "Only valid with DatetimeIndex, TimedeltaIndex or PeriodIndex, but got an instance of 'RangeIndex'",
     "output_type": "error",
     "traceback": [
      "\u001b[1;31m---------------------------------------------------------------------------\u001b[0m",
      "\u001b[1;31mTypeError\u001b[0m                                 Traceback (most recent call last)",
      "Cell \u001b[1;32mIn[9], line 7\u001b[0m\n\u001b[0;32m      5\u001b[0m \u001b[38;5;28;01mfor\u001b[39;00m datafile \u001b[38;5;129;01min\u001b[39;00m datadir\u001b[38;5;241m.\u001b[39mglob(\u001b[38;5;124m\"\u001b[39m\u001b[38;5;124m**/*.parquet\u001b[39m\u001b[38;5;124m\"\u001b[39m):\n\u001b[0;32m      6\u001b[0m     df \u001b[38;5;241m=\u001b[39m load_parquet(datafile)\n\u001b[1;32m----> 7\u001b[0m     data \u001b[38;5;241m=\u001b[39m \u001b[43mto_ohlc\u001b[49m\u001b[43m(\u001b[49m\u001b[43mdf\u001b[49m\u001b[43m,\u001b[49m\u001b[43m \u001b[49m\u001b[38;5;124;43m\"\u001b[39;49m\u001b[38;5;124;43mmid_price\u001b[39;49m\u001b[38;5;124;43m\"\u001b[39;49m\u001b[43m,\u001b[49m\u001b[43m \u001b[49m\u001b[38;5;124;43m\"\u001b[39;49m\u001b[38;5;124;43m1h\u001b[39;49m\u001b[38;5;124;43m\"\u001b[39;49m\u001b[43m)\u001b[49m\n\u001b[0;32m      8\u001b[0m     title \u001b[38;5;241m=\u001b[39m datafile\u001b[38;5;241m.\u001b[39mstem\u001b[38;5;241m.\u001b[39mreplace(\u001b[38;5;124m\"\u001b[39m\u001b[38;5;124m_\u001b[39m\u001b[38;5;124m\"\u001b[39m, \u001b[38;5;124m\"\u001b[39m\u001b[38;5;124m \u001b[39m\u001b[38;5;124m\"\u001b[39m)\u001b[38;5;241m.\u001b[39mreplace(\u001b[38;5;124m\"\u001b[39m\u001b[38;5;124m-\u001b[39m\u001b[38;5;124m\"\u001b[39m, \u001b[38;5;124m\"\u001b[39m\u001b[38;5;124m - \u001b[39m\u001b[38;5;124m\"\u001b[39m)\n\u001b[0;32m     10\u001b[0m     mpf\u001b[38;5;241m.\u001b[39mplot(\n\u001b[0;32m     11\u001b[0m         data\u001b[38;5;241m=\u001b[39mdata,\n\u001b[0;32m     12\u001b[0m         \u001b[38;5;28mtype\u001b[39m\u001b[38;5;241m=\u001b[39m\u001b[38;5;124m\"\u001b[39m\u001b[38;5;124mcandle\u001b[39m\u001b[38;5;124m\"\u001b[39m,\n\u001b[1;32m   (...)\u001b[0m\n\u001b[0;32m     16\u001b[0m         savefig\u001b[38;5;241m=\u001b[39mresultsdir \u001b[38;5;241m/\u001b[39m (datafile\u001b[38;5;241m.\u001b[39mstem \u001b[38;5;241m+\u001b[39m \u001b[38;5;124m\"\u001b[39m\u001b[38;5;124m-ohlc.svg\u001b[39m\u001b[38;5;124m\"\u001b[39m),\n\u001b[0;32m     17\u001b[0m     )\n",
      "Cell \u001b[1;32mIn[8], line 10\u001b[0m, in \u001b[0;36mto_ohlc\u001b[1;34m(df, column, pattern)\u001b[0m\n\u001b[0;32m      9\u001b[0m \u001b[38;5;28;01mdef\u001b[39;00m \u001b[38;5;21mto_ohlc\u001b[39m(df: pd\u001b[38;5;241m.\u001b[39mDataFrame, column: \u001b[38;5;28mstr\u001b[39m, pattern: \u001b[38;5;28mstr\u001b[39m \u001b[38;5;241m=\u001b[39m \u001b[38;5;124m\"\u001b[39m\u001b[38;5;124m1h\u001b[39m\u001b[38;5;124m\"\u001b[39m):\n\u001b[1;32m---> 10\u001b[0m     df \u001b[38;5;241m=\u001b[39m \u001b[43mdf\u001b[49m\u001b[38;5;241;43m.\u001b[39;49m\u001b[43mresample\u001b[49m\u001b[43m(\u001b[49m\u001b[43mpattern\u001b[49m\u001b[43m)\u001b[49m\u001b[38;5;241m.\u001b[39magg({column: [\u001b[38;5;124m\"\u001b[39m\u001b[38;5;124mfirst\u001b[39m\u001b[38;5;124m\"\u001b[39m, \u001b[38;5;124m\"\u001b[39m\u001b[38;5;124mmax\u001b[39m\u001b[38;5;124m\"\u001b[39m, \u001b[38;5;124m\"\u001b[39m\u001b[38;5;124mmin\u001b[39m\u001b[38;5;124m\"\u001b[39m, \u001b[38;5;124m\"\u001b[39m\u001b[38;5;124mlast\u001b[39m\u001b[38;5;124m\"\u001b[39m, \u001b[38;5;124m\"\u001b[39m\u001b[38;5;124mcount\u001b[39m\u001b[38;5;124m\"\u001b[39m]})\n\u001b[0;32m     11\u001b[0m     df\u001b[38;5;241m.\u001b[39mcolumns \u001b[38;5;241m=\u001b[39m [\u001b[38;5;124m\"\u001b[39m\u001b[38;5;124mOpen\u001b[39m\u001b[38;5;124m\"\u001b[39m, \u001b[38;5;124m\"\u001b[39m\u001b[38;5;124mHigh\u001b[39m\u001b[38;5;124m\"\u001b[39m, \u001b[38;5;124m\"\u001b[39m\u001b[38;5;124mLow\u001b[39m\u001b[38;5;124m\"\u001b[39m, \u001b[38;5;124m\"\u001b[39m\u001b[38;5;124mClose\u001b[39m\u001b[38;5;124m\"\u001b[39m, \u001b[38;5;124m\"\u001b[39m\u001b[38;5;124mVolume\u001b[39m\u001b[38;5;124m\"\u001b[39m]\n\u001b[0;32m     13\u001b[0m     \u001b[38;5;28;01mreturn\u001b[39;00m df\n",
      "File \u001b[1;32m~\\AppData\\Local\\Packages\\PythonSoftwareFoundation.Python.3.11_qbz5n2kfra8p0\\LocalCache\\local-packages\\Python311\\site-packages\\pandas\\core\\generic.py:9771\u001b[0m, in \u001b[0;36mNDFrame.resample\u001b[1;34m(self, rule, axis, closed, label, convention, kind, on, level, origin, offset, group_keys)\u001b[0m\n\u001b[0;32m   9768\u001b[0m \u001b[38;5;28;01melse\u001b[39;00m:\n\u001b[0;32m   9769\u001b[0m     convention \u001b[38;5;241m=\u001b[39m \u001b[38;5;124m\"\u001b[39m\u001b[38;5;124mstart\u001b[39m\u001b[38;5;124m\"\u001b[39m\n\u001b[1;32m-> 9771\u001b[0m \u001b[38;5;28;01mreturn\u001b[39;00m \u001b[43mget_resampler\u001b[49m\u001b[43m(\u001b[49m\n\u001b[0;32m   9772\u001b[0m \u001b[43m    \u001b[49m\u001b[43mcast\u001b[49m\u001b[43m(\u001b[49m\u001b[38;5;124;43m\"\u001b[39;49m\u001b[38;5;124;43mSeries | DataFrame\u001b[39;49m\u001b[38;5;124;43m\"\u001b[39;49m\u001b[43m,\u001b[49m\u001b[43m \u001b[49m\u001b[38;5;28;43mself\u001b[39;49m\u001b[43m)\u001b[49m\u001b[43m,\u001b[49m\n\u001b[0;32m   9773\u001b[0m \u001b[43m    \u001b[49m\u001b[43mfreq\u001b[49m\u001b[38;5;241;43m=\u001b[39;49m\u001b[43mrule\u001b[49m\u001b[43m,\u001b[49m\n\u001b[0;32m   9774\u001b[0m \u001b[43m    \u001b[49m\u001b[43mlabel\u001b[49m\u001b[38;5;241;43m=\u001b[39;49m\u001b[43mlabel\u001b[49m\u001b[43m,\u001b[49m\n\u001b[0;32m   9775\u001b[0m \u001b[43m    \u001b[49m\u001b[43mclosed\u001b[49m\u001b[38;5;241;43m=\u001b[39;49m\u001b[43mclosed\u001b[49m\u001b[43m,\u001b[49m\n\u001b[0;32m   9776\u001b[0m \u001b[43m    \u001b[49m\u001b[43maxis\u001b[49m\u001b[38;5;241;43m=\u001b[39;49m\u001b[43maxis\u001b[49m\u001b[43m,\u001b[49m\n\u001b[0;32m   9777\u001b[0m \u001b[43m    \u001b[49m\u001b[43mkind\u001b[49m\u001b[38;5;241;43m=\u001b[39;49m\u001b[43mkind\u001b[49m\u001b[43m,\u001b[49m\n\u001b[0;32m   9778\u001b[0m \u001b[43m    \u001b[49m\u001b[43mconvention\u001b[49m\u001b[38;5;241;43m=\u001b[39;49m\u001b[43mconvention\u001b[49m\u001b[43m,\u001b[49m\n\u001b[0;32m   9779\u001b[0m \u001b[43m    \u001b[49m\u001b[43mkey\u001b[49m\u001b[38;5;241;43m=\u001b[39;49m\u001b[43mon\u001b[49m\u001b[43m,\u001b[49m\n\u001b[0;32m   9780\u001b[0m \u001b[43m    \u001b[49m\u001b[43mlevel\u001b[49m\u001b[38;5;241;43m=\u001b[39;49m\u001b[43mlevel\u001b[49m\u001b[43m,\u001b[49m\n\u001b[0;32m   9781\u001b[0m \u001b[43m    \u001b[49m\u001b[43morigin\u001b[49m\u001b[38;5;241;43m=\u001b[39;49m\u001b[43morigin\u001b[49m\u001b[43m,\u001b[49m\n\u001b[0;32m   9782\u001b[0m \u001b[43m    \u001b[49m\u001b[43moffset\u001b[49m\u001b[38;5;241;43m=\u001b[39;49m\u001b[43moffset\u001b[49m\u001b[43m,\u001b[49m\n\u001b[0;32m   9783\u001b[0m \u001b[43m    \u001b[49m\u001b[43mgroup_keys\u001b[49m\u001b[38;5;241;43m=\u001b[39;49m\u001b[43mgroup_keys\u001b[49m\u001b[43m,\u001b[49m\n\u001b[0;32m   9784\u001b[0m \u001b[43m\u001b[49m\u001b[43m)\u001b[49m\n",
      "File \u001b[1;32m~\\AppData\\Local\\Packages\\PythonSoftwareFoundation.Python.3.11_qbz5n2kfra8p0\\LocalCache\\local-packages\\Python311\\site-packages\\pandas\\core\\resample.py:2050\u001b[0m, in \u001b[0;36mget_resampler\u001b[1;34m(obj, kind, **kwds)\u001b[0m\n\u001b[0;32m   2046\u001b[0m \u001b[38;5;250m\u001b[39m\u001b[38;5;124;03m\"\"\"\u001b[39;00m\n\u001b[0;32m   2047\u001b[0m \u001b[38;5;124;03mCreate a TimeGrouper and return our resampler.\u001b[39;00m\n\u001b[0;32m   2048\u001b[0m \u001b[38;5;124;03m\"\"\"\u001b[39;00m\n\u001b[0;32m   2049\u001b[0m tg \u001b[38;5;241m=\u001b[39m TimeGrouper(obj, \u001b[38;5;241m*\u001b[39m\u001b[38;5;241m*\u001b[39mkwds)  \u001b[38;5;66;03m# type: ignore[arg-type]\u001b[39;00m\n\u001b[1;32m-> 2050\u001b[0m \u001b[38;5;28;01mreturn\u001b[39;00m \u001b[43mtg\u001b[49m\u001b[38;5;241;43m.\u001b[39;49m\u001b[43m_get_resampler\u001b[49m\u001b[43m(\u001b[49m\u001b[43mobj\u001b[49m\u001b[43m,\u001b[49m\u001b[43m \u001b[49m\u001b[43mkind\u001b[49m\u001b[38;5;241;43m=\u001b[39;49m\u001b[43mkind\u001b[49m\u001b[43m)\u001b[49m\n",
      "File \u001b[1;32m~\\AppData\\Local\\Packages\\PythonSoftwareFoundation.Python.3.11_qbz5n2kfra8p0\\LocalCache\\local-packages\\Python311\\site-packages\\pandas\\core\\resample.py:2272\u001b[0m, in \u001b[0;36mTimeGrouper._get_resampler\u001b[1;34m(self, obj, kind)\u001b[0m\n\u001b[0;32m   2263\u001b[0m \u001b[38;5;28;01melif\u001b[39;00m \u001b[38;5;28misinstance\u001b[39m(ax, TimedeltaIndex):\n\u001b[0;32m   2264\u001b[0m     \u001b[38;5;28;01mreturn\u001b[39;00m TimedeltaIndexResampler(\n\u001b[0;32m   2265\u001b[0m         obj,\n\u001b[0;32m   2266\u001b[0m         timegrouper\u001b[38;5;241m=\u001b[39m\u001b[38;5;28mself\u001b[39m,\n\u001b[1;32m   (...)\u001b[0m\n\u001b[0;32m   2269\u001b[0m         gpr_index\u001b[38;5;241m=\u001b[39max,\n\u001b[0;32m   2270\u001b[0m     )\n\u001b[1;32m-> 2272\u001b[0m \u001b[38;5;28;01mraise\u001b[39;00m \u001b[38;5;167;01mTypeError\u001b[39;00m(\n\u001b[0;32m   2273\u001b[0m     \u001b[38;5;124m\"\u001b[39m\u001b[38;5;124mOnly valid with DatetimeIndex, \u001b[39m\u001b[38;5;124m\"\u001b[39m\n\u001b[0;32m   2274\u001b[0m     \u001b[38;5;124m\"\u001b[39m\u001b[38;5;124mTimedeltaIndex or PeriodIndex, \u001b[39m\u001b[38;5;124m\"\u001b[39m\n\u001b[0;32m   2275\u001b[0m     \u001b[38;5;124mf\u001b[39m\u001b[38;5;124m\"\u001b[39m\u001b[38;5;124mbut got an instance of \u001b[39m\u001b[38;5;124m'\u001b[39m\u001b[38;5;132;01m{\u001b[39;00m\u001b[38;5;28mtype\u001b[39m(ax)\u001b[38;5;241m.\u001b[39m\u001b[38;5;18m__name__\u001b[39m\u001b[38;5;132;01m}\u001b[39;00m\u001b[38;5;124m'\u001b[39m\u001b[38;5;124m\"\u001b[39m\n\u001b[0;32m   2276\u001b[0m )\n",
      "\u001b[1;31mTypeError\u001b[0m: Only valid with DatetimeIndex, TimedeltaIndex or PeriodIndex, but got an instance of 'RangeIndex'"
     ]
    }
   ],
   "source": [
    "resultsdir = basedir / \"assets\" / \"image\"\n",
    "\n",
    "resultsdir.mkdir(parents=True, exist_ok=True)\n",
    "\n",
    "for datafile in datadir.glob(\"**/*.parquet\"):\n",
    "    df = load_parquet(datafile)\n",
    "    data = to_ohlc(df, \"mid_price\", \"1h\")\n",
    "    title = datafile.stem.replace(\"_\", \" \").replace(\"-\", \" - \")\n",
    "\n",
    "    mpf.plot(\n",
    "        data=data,\n",
    "        type=\"candle\",\n",
    "        style=\"binancedark\",\n",
    "        volume=True,\n",
    "        title=title,\n",
    "        savefig=resultsdir / (datafile.stem + \"-ohlc.svg\"),\n",
    "    )\n"
   ]
  },
  {
   "cell_type": "code",
   "execution_count": null,
   "metadata": {},
   "outputs": [],
   "source": []
  }
 ],
 "metadata": {
  "kernelspec": {
   "display_name": "Python 3",
   "language": "python",
   "name": "python3"
  },
  "language_info": {
   "codemirror_mode": {
    "name": "ipython",
    "version": 3
   },
   "file_extension": ".py",
   "mimetype": "text/x-python",
   "name": "python",
   "nbconvert_exporter": "python",
   "pygments_lexer": "ipython3",
   "version": "3.11.9"
  }
 },
 "nbformat": 4,
 "nbformat_minor": 2
}
