{
 "cells": [
  {
   "cell_type": "markdown",
   "metadata": {},
   "source": [
    "# Exploratory Analysis\n"
   ]
  },
  {
   "cell_type": "code",
   "execution_count": 1,
   "metadata": {},
   "outputs": [
    {
     "data": {
      "text/plain": [
       "'c:\\\\Users\\\\luisa\\\\Documents\\\\Pasta pessoal\\\\Insper\\\\Machine Learning\\\\Projetos\\\\Stock-Price-Prediction'"
      ]
     },
     "execution_count": 1,
     "metadata": {},
     "output_type": "execute_result"
    }
   ],
   "source": [
    "import os\n",
    "\n",
    "os.chdir(\"..\")\n",
    "os.getcwd()"
   ]
  },
  {
   "cell_type": "code",
   "execution_count": 8,
   "metadata": {},
   "outputs": [],
   "source": [
    "from pathlib import Path\n",
    "\n",
    "import mplfinance as mpf\n",
    "import pandas as pd\n",
    "from matplotlib import pyplot as plt\n",
    "import pickle"
   ]
  },
  {
   "cell_type": "markdown",
   "metadata": {},
   "source": [
    "## Fetch datasets"
   ]
  },
  {
   "cell_type": "code",
   "execution_count": null,
   "metadata": {},
   "outputs": [],
   "source": [
    "BASE_URL = \"https://data.binance.vision/data/futures/cm/daily/bookTicker/\"\n",
    "\n",
    "datasets= {\n",
    "    \"ADA\": [\n",
    "        f\"{BASE_URL}ADAUSD_PERP/ADAUSD_PERP-bookTicker-2024-05-16.zip\",\n",
    "        f\"{BASE_URL}ADAUSD_PERP/ADAUSD_PERP-bookTicker-2024-05-17.zip\",\n",
    "        f\"{BASE_URL}ADAUSD_PERP/ADAUSD_PERP-bookTicker-2024-05-18.zip\",\n",
    "        f\"{BASE_URL}ADAUSD_PERP/ADAUSD_PERP-bookTicker-2024-05-19.zip\",\n",
    "        f\"{BASE_URL}ADAUSD_PERP/ADAUSD_PERP-bookTicker-2024-05-20.zip\",\n",
    "    ],\n",
    "    \"AXS\": [\n",
    "        f\"{BASE_URL}AXSUSD_PERP/AXSUSD_PERP-bookTicker-2024-05-16.zip\",\n",
    "        f\"{BASE_URL}AXSUSD_PERP/AXSUSD_PERP-bookTicker-2024-05-17.zip\",\n",
    "        f\"{BASE_URL}AXSUSD_PERP/AXSUSD_PERP-bookTicker-2024-05-18.zip\",\n",
    "        f\"{BASE_URL}AXSUSD_PERP/AXSUSD_PERP-bookTicker-2024-05-19.zip\",\n",
    "        f\"{BASE_URL}AXSUSD_PERP/AXSUSD_PERP-bookTicker-2024-05-20.zip\",\n",
    "    ],\n",
    "    \"BTC\": [\n",
    "        f\"{BASE_URL}BTCUSD_PERP/BTCUSD_PERP-bookTicker-2024-05-16.zip\",\n",
    "        f\"{BASE_URL}BTCUSD_PERP/BTCUSD_PERP-bookTicker-2024-05-17.zip\",\n",
    "        f\"{BASE_URL}BTCUSD_PERP/BTCUSD_PERP-bookTicker-2024-05-18.zip\",\n",
    "        f\"{BASE_URL}BTCUSD_PERP/BTCUSD_PERP-bookTicker-2024-05-19.zip\",\n",
    "        f\"{BASE_URL}BTCUSD_PERP/BTCUSD_PERP-bookTicker-2024-05-20.zip\",\n",
    "    ],\n",
    "    \"DOGE\": [\n",
    "        f\"{BASE_URL}DOGEUSD_PERP/DOGEUSD_PERP-bookTicker-2024-05-16.zip\",\n",
    "        f\"{BASE_URL}DOGEUSD_PERP/DOGEUSD_PERP-bookTicker-2024-05-17.zip\",\n",
    "        f\"{BASE_URL}DOGEUSD_PERP/DOGEUSD_PERP-bookTicker-2024-05-18.zip\",\n",
    "        f\"{BASE_URL}DOGEUSD_PERP/DOGEUSD_PERP-bookTicker-2024-05-19.zip\",\n",
    "        f\"{BASE_URL}DOGEUSD_PERP/DOGEUSD_PERP-bookTicker-2024-05-20.zip\",\n",
    "    ],\n",
    "    \"NEAR\": [\n",
    "        f\"{BASE_URL}NEARUSD_PERP/NEARUSD_PERP-bookTicker-2024-05-16.zip\",\n",
    "        f\"{BASE_URL}NEARUSD_PERP/NEARUSD_PERP-bookTicker-2024-05-17.zip\",\n",
    "        f\"{BASE_URL}NEARUSD_PERP/NEARUSD_PERP-bookTicker-2024-05-18.zip\",\n",
    "        f\"{BASE_URL}NEARUSD_PERP/NEARUSD_PERP-bookTicker-2024-05-19.zip\",\n",
    "        f\"{BASE_URL}NEARUSD_PERP/NEARUSD_PERP-bookTicker-2024-05-20.zip\",\n",
    "    ],\n",
    "}"
   ]
  },
  {
   "cell_type": "code",
   "execution_count": null,
   "metadata": {},
   "outputs": [],
   "source": [
    "from scripts.pull_datasets import execute as pull_datasets\n",
    "\n",
    "pull_datasets(datasets)"
   ]
  },
  {
   "cell_type": "markdown",
   "metadata": {},
   "source": [
    "## Run Preprocessing script"
   ]
  },
  {
   "cell_type": "code",
   "execution_count": null,
   "metadata": {},
   "outputs": [],
   "source": [
    "from scripts.preprocess import execute as preprocess\n",
    "\n",
    "for ticker in datasets.keys():\n",
    "    preprocess(ticker)"
   ]
  },
  {
   "cell_type": "markdown",
   "metadata": {},
   "source": [
    "## Build Open-High-Low-Close charts of `mid_price` for each day"
   ]
  },
  {
   "cell_type": "code",
   "execution_count": 5,
   "metadata": {},
   "outputs": [],
   "source": [
    "basedir = Path.cwd()\n",
    "datadir = basedir / \"data\"\n",
    "resultsdir = basedir / \"assets\" / \"image\"\n",
    "\n",
    "def to_OHLC(df: pd.DataFrame, pattern: str):\n",
    "    return df.resample(pattern).agg({\n",
    "        \"Open\": \"first\",\n",
    "        \"High\": \"max\",\n",
    "        \"Low\": \"min\",\n",
    "        \"Close\": \"last\"\n",
    "    })\n"
   ]
  },
  {
   "cell_type": "code",
   "execution_count": 6,
   "metadata": {},
   "outputs": [],
   "source": [
    "resultsdir.mkdir(parents=True, exist_ok=True)\n",
    "\n",
    "for datafile in (datadir / \"tickers\").glob(\"**/*-raw.parquet\"):\n",
    "    name = datafile.stem[:-4]\n",
    "    df = pd.read_parquet(datafile)\n",
    "    data = to_OHLC(df[\"mid_price\"], \"1h\")\n",
    "    data[\"Volume\"] = df[\"Trades\"].resample(\"1h\").agg(\"sum\")\n",
    "    title = name.replace(\"_\", \" \").replace(\"-\", \" - \")\n",
    "\n",
    "    mpf.plot(\n",
    "        data=data,\n",
    "        type=\"candle\",\n",
    "        style=\"binance\",\n",
    "        volume=True,\n",
    "        title=title,\n",
    "        savefig=resultsdir / (name + \"-ohlc.svg\"),\n",
    "    )\n"
   ]
  },
  {
   "cell_type": "code",
   "execution_count": 3,
   "metadata": {},
   "outputs": [
    {
     "ename": "NameError",
     "evalue": "name 'datadir' is not defined",
     "output_type": "error",
     "traceback": [
      "\u001b[1;31m---------------------------------------------------------------------------\u001b[0m",
      "\u001b[1;31mNameError\u001b[0m                                 Traceback (most recent call last)",
      "Cell \u001b[1;32mIn[3], line 1\u001b[0m\n\u001b[1;32m----> 1\u001b[0m validation_datafiles \u001b[38;5;241m=\u001b[39m (\u001b[43mdatadir\u001b[49m \u001b[38;5;241m/\u001b[39m \u001b[38;5;124m\"\u001b[39m\u001b[38;5;124mtickers\u001b[39m\u001b[38;5;124m\"\u001b[39m)\u001b[38;5;241m.\u001b[39mglob(\u001b[38;5;124m\"\u001b[39m\u001b[38;5;124m**/*-day_5-raw.parquet\u001b[39m\u001b[38;5;124m\"\u001b[39m)\n\u001b[0;32m      2\u001b[0m prediction_datafiles \u001b[38;5;241m=\u001b[39m (datadir \u001b[38;5;241m/\u001b[39m \u001b[38;5;124m\"\u001b[39m\u001b[38;5;124mpredictions\u001b[39m\u001b[38;5;124m\"\u001b[39m)\u001b[38;5;241m.\u001b[39mglob(\u001b[38;5;124m\"\u001b[39m\u001b[38;5;124mMLP-*.parquet\u001b[39m\u001b[38;5;124m\"\u001b[39m)\n\u001b[0;32m      4\u001b[0m \u001b[38;5;28;01mfor\u001b[39;00m y_true, y_hat \u001b[38;5;129;01min\u001b[39;00m \u001b[38;5;28mzip\u001b[39m(validation_datafiles, prediction_datafiles):\n",
      "\u001b[1;31mNameError\u001b[0m: name 'datadir' is not defined"
     ]
    }
   ],
   "source": [
    "validation_datafiles = (datadir / \"tickers\").glob(\"**/*-day_5-raw.parquet\")\n",
    "prediction_datafiles = (datadir / \"predictions\").glob(\"MLP-*.parquet\")\n",
    "\n",
    "for y_true, y_hat in zip(validation_datafiles, prediction_datafiles):\n",
    "    title = y_hat.stem.replace(\"-\", \" - \")\n",
    "    fig, (ax1, ax2) = plt.subplots(1, 2, figsize=(15, 5))\n",
    "\n",
    "    fig.suptitle(title)\n",
    "    ax1.set_title(\"Actual\")\n",
    "    ax2.set_title(\"Predicted\")\n",
    "\n",
    "    data1 = to_OHLC(pd.read_parquet(y_true)[\"mid_price\"], \"1h\")\n",
    "    data2 = to_OHLC(pd.read_parquet(y_hat), \"1h\")\n",
    "    combined_ymin = min(data1.min().min(), data2.min().min())\n",
    "    combined_ymax = max(data1.max().max(), data2.max().max())\n",
    "\n",
    "    ax1.set_ylim(combined_ymin, combined_ymax)\n",
    "    ax2.set_ylim(combined_ymin, combined_ymax)\n",
    "\n",
    "    mpf.plot(data1, type=\"candle\", style=\"binance\", ax=ax1)\n",
    "    mpf.plot(data2, type=\"candle\", style=\"binance\", ax=ax2)\n",
    "    plt.savefig(resultsdir / y_hat.with_suffix(\".svg\").name)\n"
   ]
  },
  {
   "cell_type": "code",
   "execution_count": 9,
   "metadata": {},
   "outputs": [
    {
     "data": {
      "image/png": "[encoded data removed]",
      "text/plain": [
       "<Figure size 1500x500 with 2 Axes>"
      ]
     },
     "metadata": {},
     "output_type": "display_data"
    }
   ],
   "source": [
    "validation_datafiles = (datadir / \"tickers\").glob(\"**/*-day_5-raw.parquet\")\n",
    "prediction_datafiles = (datadir / \"predictions\").glob(\"LSTM-*.parquet\")\n",
    "\n",
    "for y_true, y_hat in zip(validation_datafiles, prediction_datafiles):\n",
    "\n",
    "    title = y_hat.stem.replace(\"-\", \" - \")\n",
    "    fig, (ax1, ax2) = plt.subplots(1, 2, figsize=(15, 5))\n",
    "\n",
    "    fig.suptitle(title)\n",
    "    ax1.set_title(\"Actual\")\n",
    "    ax2.set_title(\"Predicted\")\n",
    "\n",
    "    data1 = to_OHLC(pd.read_parquet(y_true)[\"mid_price\"], \"1h\")\n",
    "    data2 = to_OHLC(pd.read_parquet(y_hat), \"1h\")\n",
    "    break\n",
    "    combined_ymin = min(data1.min().min(), data2.min().min())\n",
    "    combined_ymax = max(data1.max().max(), data2.max().max())\n",
    "\n",
    "    ax1.set_ylim(combined_ymin, combined_ymax)\n",
    "    ax2.set_ylim(combined_ymin, combined_ymax)\n",
    "\n",
    "    mpf.plot(data1, type=\"candle\", style=\"binance\", ax=ax1)\n",
    "    mpf.plot(data2, type=\"candle\", style=\"binance\", ax=ax2)\n",
    "    plt.savefig(resultsdir / y_hat.with_suffix(\".svg\").name)\n"
   ]
  },
  {
   "cell_type": "code",
   "execution_count": 10,
   "metadata": {},
   "outputs": [
    {
     "data": {
      "text/html": [
       "<div>\n",
       "<style scoped>\n",
       "    .dataframe tbody tr th:only-of-type {\n",
       "        vertical-align: middle;\n",
       "    }\n",
       "\n",
       "    .dataframe tbody tr th {\n",
       "        vertical-align: top;\n",
       "    }\n",
       "\n",
       "    .dataframe thead th {\n",
       "        text-align: right;\n",
       "    }\n",
       "</style>\n",
       "<table border=\"1\" class=\"dataframe\">\n",
       "  <thead>\n",
       "    <tr style=\"text-align: right;\">\n",
       "      <th></th>\n",
       "      <th>Open</th>\n",
       "      <th>High</th>\n",
       "      <th>Low</th>\n",
       "      <th>Close</th>\n",
       "    </tr>\n",
       "    <tr>\n",
       "      <th>event_time</th>\n",
       "      <th></th>\n",
       "      <th></th>\n",
       "      <th></th>\n",
       "      <th></th>\n",
       "    </tr>\n",
       "  </thead>\n",
       "  <tbody>\n",
       "    <tr>\n",
       "      <th>2024-05-20 00:00:00</th>\n",
       "      <td>-0.579004</td>\n",
       "      <td>-0.479976</td>\n",
       "      <td>-0.627843</td>\n",
       "      <td>-0.602848</td>\n",
       "    </tr>\n",
       "    <tr>\n",
       "      <th>2024-05-20 01:00:00</th>\n",
       "      <td>-0.606099</td>\n",
       "      <td>-0.535386</td>\n",
       "      <td>-0.632110</td>\n",
       "      <td>-0.623987</td>\n",
       "    </tr>\n",
       "    <tr>\n",
       "      <th>2024-05-20 02:00:00</th>\n",
       "      <td>-0.624977</td>\n",
       "      <td>-0.294458</td>\n",
       "      <td>-0.625766</td>\n",
       "      <td>-0.419874</td>\n",
       "    </tr>\n",
       "    <tr>\n",
       "      <th>2024-05-20 03:00:00</th>\n",
       "      <td>-0.437277</td>\n",
       "      <td>-0.114876</td>\n",
       "      <td>-0.461835</td>\n",
       "      <td>-0.270058</td>\n",
       "    </tr>\n",
       "    <tr>\n",
       "      <th>2024-05-20 04:00:00</th>\n",
       "      <td>-0.291569</td>\n",
       "      <td>0.350720</td>\n",
       "      <td>-0.305325</td>\n",
       "      <td>0.259184</td>\n",
       "    </tr>\n",
       "    <tr>\n",
       "      <th>2024-05-20 05:00:00</th>\n",
       "      <td>0.279809</td>\n",
       "      <td>0.442479</td>\n",
       "      <td>0.165910</td>\n",
       "      <td>0.157201</td>\n",
       "    </tr>\n",
       "    <tr>\n",
       "      <th>2024-05-20 06:00:00</th>\n",
       "      <td>0.170648</td>\n",
       "      <td>0.402911</td>\n",
       "      <td>-0.632115</td>\n",
       "      <td>-0.632028</td>\n",
       "    </tr>\n",
       "    <tr>\n",
       "      <th>2024-05-20 07:00:00</th>\n",
       "      <td>-0.632066</td>\n",
       "      <td>-0.565872</td>\n",
       "      <td>-0.632101</td>\n",
       "      <td>-0.584861</td>\n",
       "    </tr>\n",
       "    <tr>\n",
       "      <th>2024-05-20 08:00:00</th>\n",
       "      <td>-0.584354</td>\n",
       "      <td>-0.416580</td>\n",
       "      <td>-0.600367</td>\n",
       "      <td>-0.475398</td>\n",
       "    </tr>\n",
       "    <tr>\n",
       "      <th>2024-05-20 09:00:00</th>\n",
       "      <td>-0.484238</td>\n",
       "      <td>-0.393960</td>\n",
       "      <td>-0.605558</td>\n",
       "      <td>-0.603560</td>\n",
       "    </tr>\n",
       "    <tr>\n",
       "      <th>2024-05-20 10:00:00</th>\n",
       "      <td>-0.602300</td>\n",
       "      <td>-0.320481</td>\n",
       "      <td>-0.614525</td>\n",
       "      <td>-0.477099</td>\n",
       "    </tr>\n",
       "    <tr>\n",
       "      <th>2024-05-20 11:00:00</th>\n",
       "      <td>-0.480332</td>\n",
       "      <td>-0.397614</td>\n",
       "      <td>-0.608011</td>\n",
       "      <td>-0.588082</td>\n",
       "    </tr>\n",
       "    <tr>\n",
       "      <th>2024-05-20 12:00:00</th>\n",
       "      <td>-0.585356</td>\n",
       "      <td>-0.559901</td>\n",
       "      <td>-0.629956</td>\n",
       "      <td>-0.623162</td>\n",
       "    </tr>\n",
       "    <tr>\n",
       "      <th>2024-05-20 13:00:00</th>\n",
       "      <td>-0.624029</td>\n",
       "      <td>-0.481090</td>\n",
       "      <td>-0.629726</td>\n",
       "      <td>-0.544665</td>\n",
       "    </tr>\n",
       "    <tr>\n",
       "      <th>2024-05-20 14:00:00</th>\n",
       "      <td>-0.537361</td>\n",
       "      <td>-0.542400</td>\n",
       "      <td>-0.631404</td>\n",
       "      <td>-0.624901</td>\n",
       "    </tr>\n",
       "    <tr>\n",
       "      <th>2024-05-20 15:00:00</th>\n",
       "      <td>-0.624967</td>\n",
       "      <td>-0.497429</td>\n",
       "      <td>-0.629689</td>\n",
       "      <td>-0.490561</td>\n",
       "    </tr>\n",
       "    <tr>\n",
       "      <th>2024-05-20 16:00:00</th>\n",
       "      <td>-0.494979</td>\n",
       "      <td>0.073781</td>\n",
       "      <td>-0.536432</td>\n",
       "      <td>-0.051873</td>\n",
       "    </tr>\n",
       "    <tr>\n",
       "      <th>2024-05-20 17:00:00</th>\n",
       "      <td>-0.048858</td>\n",
       "      <td>0.248007</td>\n",
       "      <td>-0.517431</td>\n",
       "      <td>-0.431322</td>\n",
       "    </tr>\n",
       "    <tr>\n",
       "      <th>2024-05-20 18:00:00</th>\n",
       "      <td>-0.466317</td>\n",
       "      <td>-0.199917</td>\n",
       "      <td>-0.525053</td>\n",
       "      <td>-0.288518</td>\n",
       "    </tr>\n",
       "    <tr>\n",
       "      <th>2024-05-20 19:00:00</th>\n",
       "      <td>-0.317416</td>\n",
       "      <td>1.695975</td>\n",
       "      <td>-0.407466</td>\n",
       "      <td>1.611175</td>\n",
       "    </tr>\n",
       "    <tr>\n",
       "      <th>2024-05-20 20:00:00</th>\n",
       "      <td>1.660784</td>\n",
       "      <td>1.877594</td>\n",
       "      <td>0.982440</td>\n",
       "      <td>1.547448</td>\n",
       "    </tr>\n",
       "    <tr>\n",
       "      <th>2024-05-20 21:00:00</th>\n",
       "      <td>1.562880</td>\n",
       "      <td>2.312064</td>\n",
       "      <td>1.169336</td>\n",
       "      <td>2.376052</td>\n",
       "    </tr>\n",
       "    <tr>\n",
       "      <th>2024-05-20 22:00:00</th>\n",
       "      <td>2.352458</td>\n",
       "      <td>2.505266</td>\n",
       "      <td>2.055997</td>\n",
       "      <td>2.396173</td>\n",
       "    </tr>\n",
       "    <tr>\n",
       "      <th>2024-05-20 23:00:00</th>\n",
       "      <td>2.328764</td>\n",
       "      <td>2.815892</td>\n",
       "      <td>2.146178</td>\n",
       "      <td>2.928211</td>\n",
       "    </tr>\n",
       "  </tbody>\n",
       "</table>\n",
       "</div>"
      ],
      "text/plain": [
       "                         Open      High       Low     Close\n",
       "event_time                                                 \n",
       "2024-05-20 00:00:00 -0.579004 -0.479976 -0.627843 -0.602848\n",
       "2024-05-20 01:00:00 -0.606099 -0.535386 -0.632110 -0.623987\n",
       "2024-05-20 02:00:00 -0.624977 -0.294458 -0.625766 -0.419874\n",
       "2024-05-20 03:00:00 -0.437277 -0.114876 -0.461835 -0.270058\n",
       "2024-05-20 04:00:00 -0.291569  0.350720 -0.305325  0.259184\n",
       "2024-05-20 05:00:00  0.279809  0.442479  0.165910  0.157201\n",
       "2024-05-20 06:00:00  0.170648  0.402911 -0.632115 -0.632028\n",
       "2024-05-20 07:00:00 -0.632066 -0.565872 -0.632101 -0.584861\n",
       "2024-05-20 08:00:00 -0.584354 -0.416580 -0.600367 -0.475398\n",
       "2024-05-20 09:00:00 -0.484238 -0.393960 -0.605558 -0.603560\n",
       "2024-05-20 10:00:00 -0.602300 -0.320481 -0.614525 -0.477099\n",
       "2024-05-20 11:00:00 -0.480332 -0.397614 -0.608011 -0.588082\n",
       "2024-05-20 12:00:00 -0.585356 -0.559901 -0.629956 -0.623162\n",
       "2024-05-20 13:00:00 -0.624029 -0.481090 -0.629726 -0.544665\n",
       "2024-05-20 14:00:00 -0.537361 -0.542400 -0.631404 -0.624901\n",
       "2024-05-20 15:00:00 -0.624967 -0.497429 -0.629689 -0.490561\n",
       "2024-05-20 16:00:00 -0.494979  0.073781 -0.536432 -0.051873\n",
       "2024-05-20 17:00:00 -0.048858  0.248007 -0.517431 -0.431322\n",
       "2024-05-20 18:00:00 -0.466317 -0.199917 -0.525053 -0.288518\n",
       "2024-05-20 19:00:00 -0.317416  1.695975 -0.407466  1.611175\n",
       "2024-05-20 20:00:00  1.660784  1.877594  0.982440  1.547448\n",
       "2024-05-20 21:00:00  1.562880  2.312064  1.169336  2.376052\n",
       "2024-05-20 22:00:00  2.352458  2.505266  2.055997  2.396173\n",
       "2024-05-20 23:00:00  2.328764  2.815892  2.146178  2.928211"
      ]
     },
     "execution_count": 10,
     "metadata": {},
     "output_type": "execute_result"
    }
   ],
   "source": [
    "data2"
   ]
  },
  {
   "cell_type": "code",
   "execution_count": 14,
   "metadata": {},
   "outputs": [
    {
     "name": "stderr",
     "output_type": "stream",
     "text": [
      "C:\\Users\\luisa\\AppData\\Local\\Packages\\PythonSoftwareFoundation.Python.3.11_qbz5n2kfra8p0\\LocalCache\\local-packages\\Python311\\site-packages\\sklearn\\base.py:376: InconsistentVersionWarning: Trying to unpickle estimator StandardScaler from version 1.4.2 when using version 1.5.0. This might lead to breaking code or invalid results. Use at your own risk. For more info please refer to:\n",
      "https://scikit-learn.org/stable/model_persistence.html#security-maintainability-limitations\n",
      "  warnings.warn(\n"
     ]
    }
   ],
   "source": [
    "scaler_ADA = pickle.load(open(datadir / \"scalers\" / \"ADA-5.pkl\", \"rb\"))\n",
    "scaler_BTC = pickle.load(open(datadir / \"scalers\" / \"BTC-5.pkl\", \"rb\"))\n",
    "scaler_DOGE = pickle.load(open(datadir / \"scalers\" / \"DOGE-5.pkl\", \"rb\"))\n",
    "scaler_NEAR = pickle.load(open(datadir / \"scalers\" / \"NEAR-5.pkl\", \"rb\"))\n",
    "scaler_AXS = pickle.load(open(datadir / \"scalers\" / \"AXS-5.pkl\", \"rb\"))"
   ]
  },
  {
   "cell_type": "code",
   "execution_count": 15,
   "metadata": {},
   "outputs": [
    {
     "ename": "ValueError",
     "evalue": "operands could not be broadcast together with shapes (24,4) (21,) (24,4) ",
     "output_type": "error",
     "traceback": [
      "\u001b[1;31m---------------------------------------------------------------------------\u001b[0m",
      "\u001b[1;31mValueError\u001b[0m                                Traceback (most recent call last)",
      "Cell \u001b[1;32mIn[15], line 2\u001b[0m\n\u001b[0;32m      1\u001b[0m \u001b[38;5;66;03m# desnormalizar data2\u001b[39;00m\n\u001b[1;32m----> 2\u001b[0m data2 \u001b[38;5;241m=\u001b[39m \u001b[43mscaler_ADA\u001b[49m\u001b[38;5;241;43m.\u001b[39;49m\u001b[43minverse_transform\u001b[49m\u001b[43m(\u001b[49m\u001b[43mdata2\u001b[49m\u001b[43m)\u001b[49m\n\u001b[0;32m      3\u001b[0m data2\n",
      "File \u001b[1;32m~\\AppData\\Local\\Packages\\PythonSoftwareFoundation.Python.3.11_qbz5n2kfra8p0\\LocalCache\\local-packages\\Python311\\site-packages\\sklearn\\preprocessing\\_data.py:1103\u001b[0m, in \u001b[0;36mStandardScaler.inverse_transform\u001b[1;34m(self, X, copy)\u001b[0m\n\u001b[0;32m   1101\u001b[0m \u001b[38;5;28;01melse\u001b[39;00m:\n\u001b[0;32m   1102\u001b[0m     \u001b[38;5;28;01mif\u001b[39;00m \u001b[38;5;28mself\u001b[39m\u001b[38;5;241m.\u001b[39mwith_std:\n\u001b[1;32m-> 1103\u001b[0m         \u001b[43mX\u001b[49m\u001b[43m \u001b[49m\u001b[38;5;241;43m*\u001b[39;49m\u001b[38;5;241;43m=\u001b[39;49m\u001b[43m \u001b[49m\u001b[38;5;28;43mself\u001b[39;49m\u001b[38;5;241;43m.\u001b[39;49m\u001b[43mscale_\u001b[49m\n\u001b[0;32m   1104\u001b[0m     \u001b[38;5;28;01mif\u001b[39;00m \u001b[38;5;28mself\u001b[39m\u001b[38;5;241m.\u001b[39mwith_mean:\n\u001b[0;32m   1105\u001b[0m         X \u001b[38;5;241m+\u001b[39m\u001b[38;5;241m=\u001b[39m \u001b[38;5;28mself\u001b[39m\u001b[38;5;241m.\u001b[39mmean_\n",
      "\u001b[1;31mValueError\u001b[0m: operands could not be broadcast together with shapes (24,4) (21,) (24,4) "
     ]
    }
   ],
   "source": [
    "# desnormalizar data2\n",
    "data2 = scaler_ADA.inverse_transform(data2)\n",
    "data2"
   ]
  },
  {
   "cell_type": "code",
   "execution_count": null,
   "metadata": {},
   "outputs": [],
   "source": []
  }
 ],
 "metadata": {
  "kernelspec": {
   "display_name": "Python 3",
   "language": "python",
   "name": "python3"
  },
  "language_info": {
   "codemirror_mode": {
    "name": "ipython",
    "version": 3
   },
   "file_extension": ".py",
   "mimetype": "text/x-python",
   "name": "python",
   "nbconvert_exporter": "python",
   "pygments_lexer": "ipython3",
   "version": "3.11.9"
  }
 },
 "nbformat": 4,
 "nbformat_minor": 2
}
