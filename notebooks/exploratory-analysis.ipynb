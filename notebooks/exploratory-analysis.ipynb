{
 "cells": [
  {
   "cell_type": "markdown",
   "metadata": {},
   "source": [
    "# Exploratory Analysis\n"
   ]
  },
  {
   "cell_type": "code",
   "execution_count": null,
   "metadata": {},
   "outputs": [],
   "source": [
    "import os\n",
    "\n",
    "os.chdir(\"..\")\n",
    "os.getcwd()"
   ]
  },
  {
   "cell_type": "code",
   "execution_count": null,
   "metadata": {},
   "outputs": [],
   "source": [
    "from pathlib import Path\n",
    "\n",
    "import mplfinance as mpf\n",
    "import pandas as pd\n",
    "from matplotlib import pyplot as plt\n",
    "import pickle"
   ]
  },
  {
   "cell_type": "markdown",
   "metadata": {},
   "source": [
    "## Fetch datasets"
   ]
  },
  {
   "cell_type": "code",
   "execution_count": null,
   "metadata": {},
   "outputs": [],
   "source": [
    "BASE_URL = \"https://data.binance.vision/data/futures/cm/daily/bookTicker/\"\n",
    "\n",
    "datasets= {\n",
    "    \"ADA\": [\n",
    "        f\"{BASE_URL}ADAUSD_PERP/ADAUSD_PERP-bookTicker-2024-05-16.zip\",\n",
    "        f\"{BASE_URL}ADAUSD_PERP/ADAUSD_PERP-bookTicker-2024-05-17.zip\",\n",
    "        f\"{BASE_URL}ADAUSD_PERP/ADAUSD_PERP-bookTicker-2024-05-18.zip\",\n",
    "        f\"{BASE_URL}ADAUSD_PERP/ADAUSD_PERP-bookTicker-2024-05-19.zip\",\n",
    "        f\"{BASE_URL}ADAUSD_PERP/ADAUSD_PERP-bookTicker-2024-05-20.zip\",\n",
    "    ],\n",
    "    \"AXS\": [\n",
    "        f\"{BASE_URL}AXSUSD_PERP/AXSUSD_PERP-bookTicker-2024-05-16.zip\",\n",
    "        f\"{BASE_URL}AXSUSD_PERP/AXSUSD_PERP-bookTicker-2024-05-17.zip\",\n",
    "        f\"{BASE_URL}AXSUSD_PERP/AXSUSD_PERP-bookTicker-2024-05-18.zip\",\n",
    "        f\"{BASE_URL}AXSUSD_PERP/AXSUSD_PERP-bookTicker-2024-05-19.zip\",\n",
    "        f\"{BASE_URL}AXSUSD_PERP/AXSUSD_PERP-bookTicker-2024-05-20.zip\",\n",
    "    ],\n",
    "    \"BTC\": [\n",
    "        f\"{BASE_URL}BTCUSD_PERP/BTCUSD_PERP-bookTicker-2024-05-16.zip\",\n",
    "        f\"{BASE_URL}BTCUSD_PERP/BTCUSD_PERP-bookTicker-2024-05-17.zip\",\n",
    "        f\"{BASE_URL}BTCUSD_PERP/BTCUSD_PERP-bookTicker-2024-05-18.zip\",\n",
    "        f\"{BASE_URL}BTCUSD_PERP/BTCUSD_PERP-bookTicker-2024-05-19.zip\",\n",
    "        f\"{BASE_URL}BTCUSD_PERP/BTCUSD_PERP-bookTicker-2024-05-20.zip\",\n",
    "    ],\n",
    "    \"DOGE\": [\n",
    "        f\"{BASE_URL}DOGEUSD_PERP/DOGEUSD_PERP-bookTicker-2024-05-16.zip\",\n",
    "        f\"{BASE_URL}DOGEUSD_PERP/DOGEUSD_PERP-bookTicker-2024-05-17.zip\",\n",
    "        f\"{BASE_URL}DOGEUSD_PERP/DOGEUSD_PERP-bookTicker-2024-05-18.zip\",\n",
    "        f\"{BASE_URL}DOGEUSD_PERP/DOGEUSD_PERP-bookTicker-2024-05-19.zip\",\n",
    "        f\"{BASE_URL}DOGEUSD_PERP/DOGEUSD_PERP-bookTicker-2024-05-20.zip\",\n",
    "    ],\n",
    "    \"NEAR\": [\n",
    "        f\"{BASE_URL}NEARUSD_PERP/NEARUSD_PERP-bookTicker-2024-05-16.zip\",\n",
    "        f\"{BASE_URL}NEARUSD_PERP/NEARUSD_PERP-bookTicker-2024-05-17.zip\",\n",
    "        f\"{BASE_URL}NEARUSD_PERP/NEARUSD_PERP-bookTicker-2024-05-18.zip\",\n",
    "        f\"{BASE_URL}NEARUSD_PERP/NEARUSD_PERP-bookTicker-2024-05-19.zip\",\n",
    "        f\"{BASE_URL}NEARUSD_PERP/NEARUSD_PERP-bookTicker-2024-05-20.zip\",\n",
    "    ],\n",
    "}"
   ]
  },
  {
   "cell_type": "code",
   "execution_count": null,
   "metadata": {},
   "outputs": [],
   "source": [
    "from scripts.pull_datasets import execute as pull_datasets\n",
    "\n",
    "pull_datasets(datasets)"
   ]
  },
  {
   "cell_type": "markdown",
   "metadata": {},
   "source": [
    "## Run Preprocessing script"
   ]
  },
  {
   "cell_type": "code",
   "execution_count": null,
   "metadata": {},
   "outputs": [],
   "source": [
    "from scripts.preprocess import execute as preprocess\n",
    "\n",
    "for ticker in datasets.keys():\n",
    "    preprocess(ticker)"
   ]
  },
  {
   "cell_type": "markdown",
   "metadata": {},
   "source": [
    "## Build Open-High-Low-Close charts of `mid_price` for each day"
   ]
  },
  {
   "cell_type": "code",
   "execution_count": null,
   "metadata": {},
   "outputs": [],
   "source": [
    "basedir = Path.cwd()\n",
    "datadir = basedir / \"data\"\n",
    "resultsdir = basedir / \"assets\" / \"image\"\n",
    "\n",
    "def to_OHLC(df: pd.DataFrame, pattern: str):\n",
    "    return df.resample(pattern).agg({\n",
    "        \"Open\": \"first\",\n",
    "        \"High\": \"max\",\n",
    "        \"Low\": \"min\",\n",
    "        \"Close\": \"last\"\n",
    "    })\n"
   ]
  },
  {
   "cell_type": "code",
   "execution_count": null,
   "metadata": {},
   "outputs": [],
   "source": [
    "resultsdir.mkdir(parents=True, exist_ok=True)\n",
    "\n",
    "for datafile in (datadir / \"tickers\").glob(\"**/*-raw.parquet\"):\n",
    "    name = datafile.stem[:-4]\n",
    "    df = pd.read_parquet(datafile)\n",
    "    data = to_OHLC(df[\"mid_price\"], \"1h\")\n",
    "    data[\"Volume\"] = df[\"Trades\"].resample(\"1h\").agg(\"sum\")\n",
    "    title = name.replace(\"_\", \" \").replace(\"-\", \" - \")\n",
    "\n",
    "    mpf.plot(\n",
    "        data=data,\n",
    "        type=\"candle\",\n",
    "        style=\"binance\",\n",
    "        volume=True,\n",
    "        title=title,\n",
    "        savefig=resultsdir / (name + \"-ohlc.svg\"),\n",
    "    )\n"
   ]
  },
  {
   "cell_type": "code",
   "execution_count": null,
   "metadata": {},
   "outputs": [],
   "source": [
    "validation_datafiles = (datadir / \"tickers\").glob(\"**/*-day_5-raw.parquet\")\n",
    "prediction_datafiles = (datadir / \"predictions\").glob(\"MLP-*.parquet\")\n",
    "\n",
    "for y_true, y_hat in zip(validation_datafiles, prediction_datafiles):\n",
    "    title = y_hat.stem.replace(\"-\", \" - \")\n",
    "    fig, (ax1, ax2) = plt.subplots(1, 2, figsize=(15, 5))\n",
    "\n",
    "    fig.suptitle(title)\n",
    "    ax1.set_title(\"Actual\")\n",
    "    ax2.set_title(\"Predicted\")\n",
    "\n",
    "    data1 = to_OHLC(pd.read_parquet(y_true)[\"mid_price\"], \"1h\")\n",
    "    data2 = to_OHLC(pd.read_parquet(y_hat), \"1h\")\n",
    "    combined_ymin = min(data1.min().min(), data2.min().min())\n",
    "    combined_ymax = max(data1.max().max(), data2.max().max())\n",
    "\n",
    "    ax1.set_ylim(combined_ymin, combined_ymax)\n",
    "    ax2.set_ylim(combined_ymin, combined_ymax)\n",
    "\n",
    "    mpf.plot(data1, type=\"candle\", style=\"binance\", ax=ax1)\n",
    "    mpf.plot(data2, type=\"candle\", style=\"binance\", ax=ax2)\n",
    "    plt.savefig(resultsdir / y_hat.with_suffix(\".svg\").name)\n"
   ]
  },
  {
   "cell_type": "code",
   "execution_count": null,
   "metadata": {},
   "outputs": [],
   "source": [
    "validation_datafiles = (datadir / \"tickers\").glob(\"**/*-day_5-raw.parquet\")\n",
    "prediction_datafiles = (datadir / \"predictions\").glob(\"LSTM-*.parquet\")\n",
    "\n",
    "for y_true, y_hat in zip(validation_datafiles, prediction_datafiles):\n",
    "    ticker = y_hat.stem.split(\"-\")[1]\n",
    "    title = y_hat.stem.replace(\"-\", \" - \")\n",
    "    fig, (ax1, ax2) = plt.subplots(1, 2, figsize=(15, 5))\n",
    "\n",
    "    fig.suptitle(title)\n",
    "    ax1.set_title(\"Actual\")\n",
    "    ax2.set_title(\"Predicted\")\n",
    "\n",
    "    data1 = to_OHLC(pd.read_parquet(y_true)[\"mid_price\"], \"1h\")\n",
    "    data2 = to_OHLC(pd.read_parquet(y_hat), \"1h\")\n",
    "\n",
    "    scaler = pickle.load(open(datadir / \"scalers\" / f\"{ticker}-5.pkl\", \"rb\"))\n",
    "    data2 = pd.DataFrame.from_records(scaler.inverse_transform(data2), columns=data2.columns, index=data2.index)\n",
    "\n",
    "    combined_ymin = min(data1.min().min(), data2.min().min())\n",
    "    combined_ymax = max(data1.max().max(), data2.max().max())\n",
    "\n",
    "    ax1.set_ylim(combined_ymin, combined_ymax)\n",
    "    ax2.set_ylim(combined_ymin, combined_ymax)\n",
    "\n",
    "    mpf.plot(data1, type=\"candle\", style=\"binance\", ax=ax1)\n",
    "    mpf.plot(data2, type=\"candle\", style=\"binance\", ax=ax2)\n",
    "    plt.savefig(resultsdir / y_hat.with_suffix(\".svg\").name)\n"
   ]
  }
 ],
 "metadata": {
  "kernelspec": {
   "display_name": "Python 3",
   "language": "python",
   "name": "python3"
  },
  "language_info": {
   "codemirror_mode": {
    "name": "ipython",
    "version": 3
   },
   "file_extension": ".py",
   "mimetype": "text/x-python",
   "name": "python",
   "nbconvert_exporter": "python",
   "pygments_lexer": "ipython3",
   "version": "3.11.9"
  }
 },
 "nbformat": 4,
 "nbformat_minor": 2
}
