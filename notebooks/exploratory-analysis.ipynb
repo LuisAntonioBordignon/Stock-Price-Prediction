{
 "cells": [
  {
   "cell_type": "markdown",
   "metadata": {},
   "source": [
    "# Exploratory Analysis\n"
   ]
  },
  {
   "cell_type": "code",
   "execution_count": null,
   "metadata": {},
   "outputs": [],
   "source": [
    "import os\n",
    "\n",
    "os.chdir(\"..\")\n",
    "os.getcwd()"
   ]
  },
  {
   "cell_type": "code",
   "execution_count": null,
   "metadata": {},
   "outputs": [],
   "source": [
    "from pathlib import Path\n",
    "\n",
    "import mplfinance as mpf\n",
    "import pandas as pd\n",
    "from matplotlib import pyplot as plt"
   ]
  },
  {
   "cell_type": "markdown",
   "metadata": {},
   "source": [
    "## Fetch datasets"
   ]
  },
  {
   "cell_type": "code",
   "execution_count": null,
   "metadata": {},
   "outputs": [],
   "source": [
    "BASE_URL = \"https://data.binance.vision/data/futures/cm/daily/bookTicker/\"\n",
    "\n",
    "datasets= {\n",
    "    \"ADA\": [\n",
    "        f\"{BASE_URL}ADAUSD_PERP/ADAUSD_PERP-bookTicker-2024-05-16.zip\",\n",
    "        f\"{BASE_URL}ADAUSD_PERP/ADAUSD_PERP-bookTicker-2024-05-17.zip\",\n",
    "        f\"{BASE_URL}ADAUSD_PERP/ADAUSD_PERP-bookTicker-2024-05-18.zip\",\n",
    "        f\"{BASE_URL}ADAUSD_PERP/ADAUSD_PERP-bookTicker-2024-05-19.zip\",\n",
    "        f\"{BASE_URL}ADAUSD_PERP/ADAUSD_PERP-bookTicker-2024-05-20.zip\",\n",
    "    ],\n",
    "    \"AXS\": [\n",
    "        f\"{BASE_URL}AXSUSD_PERP/AXSUSD_PERP-bookTicker-2024-05-16.zip\",\n",
    "        f\"{BASE_URL}AXSUSD_PERP/AXSUSD_PERP-bookTicker-2024-05-17.zip\",\n",
    "        f\"{BASE_URL}AXSUSD_PERP/AXSUSD_PERP-bookTicker-2024-05-18.zip\",\n",
    "        f\"{BASE_URL}AXSUSD_PERP/AXSUSD_PERP-bookTicker-2024-05-19.zip\",\n",
    "        f\"{BASE_URL}AXSUSD_PERP/AXSUSD_PERP-bookTicker-2024-05-20.zip\",\n",
    "    ],\n",
    "    \"BTC\": [\n",
    "        f\"{BASE_URL}BTCUSD_PERP/BTCUSD_PERP-bookTicker-2024-05-16.zip\",\n",
    "        f\"{BASE_URL}BTCUSD_PERP/BTCUSD_PERP-bookTicker-2024-05-17.zip\",\n",
    "        f\"{BASE_URL}BTCUSD_PERP/BTCUSD_PERP-bookTicker-2024-05-18.zip\",\n",
    "        f\"{BASE_URL}BTCUSD_PERP/BTCUSD_PERP-bookTicker-2024-05-19.zip\",\n",
    "        f\"{BASE_URL}BTCUSD_PERP/BTCUSD_PERP-bookTicker-2024-05-20.zip\",\n",
    "    ],\n",
    "    \"DOGE\": [\n",
    "        f\"{BASE_URL}DOGEUSD_PERP/DOGEUSD_PERP-bookTicker-2024-05-16.zip\",\n",
    "        f\"{BASE_URL}DOGEUSD_PERP/DOGEUSD_PERP-bookTicker-2024-05-17.zip\",\n",
    "        f\"{BASE_URL}DOGEUSD_PERP/DOGEUSD_PERP-bookTicker-2024-05-18.zip\",\n",
    "        f\"{BASE_URL}DOGEUSD_PERP/DOGEUSD_PERP-bookTicker-2024-05-19.zip\",\n",
    "        f\"{BASE_URL}DOGEUSD_PERP/DOGEUSD_PERP-bookTicker-2024-05-20.zip\",\n",
    "    ],\n",
    "    \"NEAR\": [\n",
    "        f\"{BASE_URL}NEARUSD_PERP/NEARUSD_PERP-bookTicker-2024-05-16.zip\",\n",
    "        f\"{BASE_URL}NEARUSD_PERP/NEARUSD_PERP-bookTicker-2024-05-17.zip\",\n",
    "        f\"{BASE_URL}NEARUSD_PERP/NEARUSD_PERP-bookTicker-2024-05-18.zip\",\n",
    "        f\"{BASE_URL}NEARUSD_PERP/NEARUSD_PERP-bookTicker-2024-05-19.zip\",\n",
    "        f\"{BASE_URL}NEARUSD_PERP/NEARUSD_PERP-bookTicker-2024-05-20.zip\",\n",
    "    ],\n",
    "}"
   ]
  },
  {
   "cell_type": "code",
   "execution_count": null,
   "metadata": {},
   "outputs": [],
   "source": [
    "from scripts.pull_datasets import execute as pull_datasets\n",
    "\n",
    "pull_datasets(datasets)"
   ]
  },
  {
   "cell_type": "markdown",
   "metadata": {},
   "source": [
    "## Run Preprocessing script"
   ]
  },
  {
   "cell_type": "code",
   "execution_count": null,
   "metadata": {},
   "outputs": [],
   "source": [
    "from scripts.preprocess import execute as preprocess\n",
    "\n",
    "for ticker in datasets.keys():\n",
    "    preprocess(ticker)"
   ]
  },
  {
   "cell_type": "markdown",
   "metadata": {},
   "source": [
    "## Build Open-High-Low-Close charts of `mid_price` for each day"
   ]
  },
  {
   "cell_type": "code",
   "execution_count": null,
   "metadata": {},
   "outputs": [],
   "source": [
    "basedir = Path.cwd()\n",
    "datadir = basedir / \"data\" / \"tickers\"\n"
   ]
  },
  {
   "cell_type": "code",
   "execution_count": null,
   "metadata": {},
   "outputs": [],
   "source": [
    "resultsdir = basedir / \"assets\" / \"image\"\n",
    "\n",
    "resultsdir.mkdir(parents=True, exist_ok=True)\n",
    "\n",
    "for datafile in datadir.glob(\"**/*-raw.parquet\"):\n",
    "    name = datafile.stem[:-4]\n",
    "    df = pd.read_parquet(datafile)\n",
    "    data = to_ohlc(df[\"mid_price\"])\n",
    "    title = name.replace(\"_\", \" \").replace(\"-\", \" - \")\n",
    "\n",
    "    mpf.plot(\n",
    "        data=data,\n",
    "        type=\"candle\",\n",
    "        style=\"binance\",\n",
    "        volume=True,\n",
    "        title=title,\n",
    "        savefig=resultsdir / (name + \"-ohlc.svg\"),\n",
    "    )\n"
   ]
  },
  {
   "cell_type": "code",
   "execution_count": null,
   "metadata": {},
   "outputs": [],
   "source": [
    "data2"
   ]
  },
  {
   "cell_type": "code",
   "execution_count": null,
   "metadata": {},
   "outputs": [],
   "source": [
    "fig, (ax1, ax2) = plt.subplots(1, 2, figsize=(15, 5))\n",
    "\n",
    "df = pd.read_parquet(\"data/predictions/MLP-ADA.parquet\")\n",
    "resultsdir = basedir / \"assets\" / \"image\"\n",
    "\n",
    "resultsdir.mkdir(parents=True, exist_ok=True)\n",
    "\n",
    "# data = to_ohlc(df.iloc[:, 0])\n",
    "# title = name.replace(\"_\", \" \").replace(\"-\", \" - \")\n",
    "\n",
    "\n",
    "data1 = df.resample(\"1h\").agg({\n",
    "    \"Open\": \"first\",\n",
    "    \"High\": \"max\",\n",
    "    \"Low\": \"min\",\n",
    "    \"Close\": \"last\",\n",
    "})\n",
    "\n",
    "mpf.plot(\n",
    "    data=data1,\n",
    "    type=\"candle\",\n",
    "    style=\"binance\",\n",
    "    ax=ax1,\n",
    "    # title=title,\n",
    "    # savefig=resultsdir / (name + \"-ohlc.svg\"),\n",
    ")\n",
    "\n",
    "df = pd.read_parquet(\"data/tickers/ADA/ADA-day_5-raw.parquet\")\n",
    "\n",
    "data2 = df[\"mid_price\"].resample(\"1h\").agg({\n",
    "    \"Open\": \"first\",\n",
    "    \"High\": \"max\",\n",
    "    \"Low\": \"min\",\n",
    "    \"Close\": \"last\",\n",
    "})\n",
    "# title = name.replace(\"_\", \" \").replace(\"-\", \" - \")\n",
    "\n",
    "mpf.plot(\n",
    "    data=data2,\n",
    "    type=\"candle\",\n",
    "    style=\"binance\",\n",
    "    ax=ax2,\n",
    "    # title=title,\n",
    "    # savefig=resultsdir / (name + \"-ohlc.svg\"),\n",
    ")\n",
    "\n",
    "# Get the combined y-limits from both dataframes\n",
    "combined_ymin = min(data1['Low'].min(), data2['Low'].min())\n",
    "combined_ymax = max(data1['High'].max(), data2['High'].max())\n",
    "\n",
    "# Set the y-limits for both axes to be the same\n",
    "ax1.set_ylim(combined_ymin, combined_ymax)\n",
    "ax2.set_ylim(combined_ymin, combined_ymax)\n",
    "\n",
    "plt.show()"
   ]
  },
  {
   "cell_type": "code",
   "execution_count": null,
   "metadata": {},
   "outputs": [],
   "source": [
    "a = pd.read_parquet(\"data/histories/MLP-ADA.parquet\").reset_index()\n",
    "a"
   ]
  },
  {
   "cell_type": "code",
   "execution_count": null,
   "metadata": {},
   "outputs": [],
   "source": [
    "a[\"loss\"].iloc[0:5].plot()\n",
    "plt.show()"
   ]
  },
  {
   "cell_type": "code",
   "execution_count": null,
   "metadata": {},
   "outputs": [],
   "source": []
  }
 ],
 "metadata": {
  "kernelspec": {
   "display_name": "Python 3",
   "language": "python",
   "name": "python3"
  },
  "language_info": {
   "codemirror_mode": {
    "name": "ipython",
    "version": 3
   },
   "file_extension": ".py",
   "mimetype": "text/x-python",
   "name": "python",
   "nbconvert_exporter": "python",
   "pygments_lexer": "ipython3",
   "version": "3.11.9"
  }
 },
 "nbformat": 4,
 "nbformat_minor": 2
}
