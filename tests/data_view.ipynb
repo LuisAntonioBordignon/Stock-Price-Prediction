{
 "cells": [
  {
   "cell_type": "code",
   "execution_count": 4,
   "metadata": {},
   "outputs": [],
   "source": [
    "import os\n",
    "\n",
    "import pandas as pd"
   ]
  },
  {
   "cell_type": "code",
   "execution_count": 5,
   "metadata": {},
   "outputs": [
    {
     "data": {
      "text/plain": [
       "'c:\\\\Users\\\\luisa\\\\Documents\\\\Pasta pessoal\\\\Insper\\\\Machine Learning\\\\Projetos\\\\Stock-Price-Prediction\\\\tests'"
      ]
     },
     "execution_count": 5,
     "metadata": {},
     "output_type": "execute_result"
    }
   ],
   "source": [
    "os.getcwd()"
   ]
  },
  {
   "cell_type": "code",
   "execution_count": 7,
   "metadata": {},
   "outputs": [
    {
     "data": {
      "text/html": [
       "<div>\n",
       "<style scoped>\n",
       "    .dataframe tbody tr th:only-of-type {\n",
       "        vertical-align: middle;\n",
       "    }\n",
       "\n",
       "    .dataframe tbody tr th {\n",
       "        vertical-align: top;\n",
       "    }\n",
       "\n",
       "    .dataframe thead th {\n",
       "        text-align: right;\n",
       "    }\n",
       "</style>\n",
       "<table border=\"1\" class=\"dataframe\">\n",
       "  <thead>\n",
       "    <tr style=\"text-align: right;\">\n",
       "      <th></th>\n",
       "      <th>best_bid_price</th>\n",
       "      <th>best_bid_qty</th>\n",
       "      <th>best_ask_price</th>\n",
       "      <th>best_ask_qty</th>\n",
       "      <th>mid_price</th>\n",
       "    </tr>\n",
       "  </thead>\n",
       "  <tbody>\n",
       "    <tr>\n",
       "      <th>0</th>\n",
       "      <td>0.4524</td>\n",
       "      <td>1590.0</td>\n",
       "      <td>0.4525</td>\n",
       "      <td>1075.0</td>\n",
       "      <td>0.45245</td>\n",
       "    </tr>\n",
       "    <tr>\n",
       "      <th>1</th>\n",
       "      <td>0.4524</td>\n",
       "      <td>1599.0</td>\n",
       "      <td>0.4525</td>\n",
       "      <td>1075.0</td>\n",
       "      <td>0.45245</td>\n",
       "    </tr>\n",
       "    <tr>\n",
       "      <th>2</th>\n",
       "      <td>0.4524</td>\n",
       "      <td>990.0</td>\n",
       "      <td>0.4525</td>\n",
       "      <td>1075.0</td>\n",
       "      <td>0.45245</td>\n",
       "    </tr>\n",
       "    <tr>\n",
       "      <th>3</th>\n",
       "      <td>0.4524</td>\n",
       "      <td>990.0</td>\n",
       "      <td>0.4525</td>\n",
       "      <td>1074.0</td>\n",
       "      <td>0.45245</td>\n",
       "    </tr>\n",
       "    <tr>\n",
       "      <th>4</th>\n",
       "      <td>0.4524</td>\n",
       "      <td>989.0</td>\n",
       "      <td>0.4525</td>\n",
       "      <td>1074.0</td>\n",
       "      <td>0.45245</td>\n",
       "    </tr>\n",
       "  </tbody>\n",
       "</table>\n",
       "</div>"
      ],
      "text/plain": [
       "   best_bid_price  best_bid_qty  best_ask_price  best_ask_qty  mid_price\n",
       "0          0.4524        1590.0          0.4525        1075.0    0.45245\n",
       "1          0.4524        1599.0          0.4525        1075.0    0.45245\n",
       "2          0.4524         990.0          0.4525        1075.0    0.45245\n",
       "3          0.4524         990.0          0.4525        1074.0    0.45245\n",
       "4          0.4524         989.0          0.4525        1074.0    0.45245"
      ]
     },
     "execution_count": 7,
     "metadata": {},
     "output_type": "execute_result"
    }
   ],
   "source": [
    "data = pd.read_parquet(\"../data/tickers/ADA/ADA-day_1.parquet\")\n",
    "\n",
    "data.head()"
   ]
  },
  {
   "cell_type": "code",
   "execution_count": null,
   "metadata": {},
   "outputs": [],
   "source": []
  }
 ],
 "metadata": {
  "kernelspec": {
   "display_name": "Python 3",
   "language": "python",
   "name": "python3"
  },
  "language_info": {
   "codemirror_mode": {
    "name": "ipython",
    "version": 3
   },
   "file_extension": ".py",
   "mimetype": "text/x-python",
   "name": "python",
   "nbconvert_exporter": "python",
   "pygments_lexer": "ipython3",
   "version": "3.11.9"
  }
 },
 "nbformat": 4,
 "nbformat_minor": 2
}
