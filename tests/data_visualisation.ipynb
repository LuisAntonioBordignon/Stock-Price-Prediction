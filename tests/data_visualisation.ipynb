{
 "cells": [
  {
   "cell_type": "code",
   "execution_count": 2,
   "metadata": {},
   "outputs": [],
   "source": [
    "import os\n",
    "\n",
    "import pandas as pd"
   ]
  },
  {
   "cell_type": "code",
   "execution_count": 3,
   "metadata": {},
   "outputs": [],
   "source": [
    "if os.getcwd().endswith(\"tests\"):\n",
    "    os.chdir(\"../\")"
   ]
  },
  {
   "cell_type": "code",
   "execution_count": 6,
   "metadata": {},
   "outputs": [
    {
     "data": {
      "text/html": [
       "<div>\n",
       "<style scoped>\n",
       "    .dataframe tbody tr th:only-of-type {\n",
       "        vertical-align: middle;\n",
       "    }\n",
       "\n",
       "    .dataframe tbody tr th {\n",
       "        vertical-align: top;\n",
       "    }\n",
       "\n",
       "    .dataframe thead th {\n",
       "        text-align: right;\n",
       "    }\n",
       "</style>\n",
       "<table border=\"1\" class=\"dataframe\">\n",
       "  <thead>\n",
       "    <tr style=\"text-align: right;\">\n",
       "      <th></th>\n",
       "      <th>best_bid_price</th>\n",
       "      <th>best_bid_qty</th>\n",
       "      <th>best_ask_price</th>\n",
       "      <th>best_ask_qty</th>\n",
       "    </tr>\n",
       "  </thead>\n",
       "  <tbody>\n",
       "    <tr>\n",
       "      <th>0</th>\n",
       "      <td>0.6509</td>\n",
       "      <td>534.0</td>\n",
       "      <td>0.651</td>\n",
       "      <td>658.0</td>\n",
       "    </tr>\n",
       "    <tr>\n",
       "      <th>1</th>\n",
       "      <td>0.6509</td>\n",
       "      <td>534.0</td>\n",
       "      <td>0.651</td>\n",
       "      <td>648.0</td>\n",
       "    </tr>\n",
       "    <tr>\n",
       "      <th>2</th>\n",
       "      <td>0.6509</td>\n",
       "      <td>1244.0</td>\n",
       "      <td>0.651</td>\n",
       "      <td>648.0</td>\n",
       "    </tr>\n",
       "    <tr>\n",
       "      <th>3</th>\n",
       "      <td>0.6509</td>\n",
       "      <td>1245.0</td>\n",
       "      <td>0.651</td>\n",
       "      <td>648.0</td>\n",
       "    </tr>\n",
       "    <tr>\n",
       "      <th>4</th>\n",
       "      <td>0.6509</td>\n",
       "      <td>1243.0</td>\n",
       "      <td>0.651</td>\n",
       "      <td>648.0</td>\n",
       "    </tr>\n",
       "  </tbody>\n",
       "</table>\n",
       "</div>"
      ],
      "text/plain": [
       "   best_bid_price  best_bid_qty  best_ask_price  best_ask_qty\n",
       "0          0.6509         534.0           0.651         658.0\n",
       "1          0.6509         534.0           0.651         648.0\n",
       "2          0.6509        1244.0           0.651         648.0\n",
       "3          0.6509        1245.0           0.651         648.0\n",
       "4          0.6509        1243.0           0.651         648.0"
      ]
     },
     "execution_count": 6,
     "metadata": {},
     "output_type": "execute_result"
    }
   ],
   "source": [
    "data = pd.read_csv(\n",
    "    \"data/tickers/ADA/ADAUSD_PERP-bookTicker-2024-04-01.csv\",\n",
    "    usecols=[\n",
    "        \"best_bid_price\",\n",
    "        \"best_bid_qty\",\n",
    "        \"best_ask_price\",\n",
    "        \"best_ask_qty\",\n",
    "    ]\n",
    ")\n",
    "\n",
    "data.head()"
   ]
  },
  {
   "cell_type": "code",
   "execution_count": 7,
   "metadata": {},
   "outputs": [
    {
     "data": {
      "text/html": [
       "<div>\n",
       "<style scoped>\n",
       "    .dataframe tbody tr th:only-of-type {\n",
       "        vertical-align: middle;\n",
       "    }\n",
       "\n",
       "    .dataframe tbody tr th {\n",
       "        vertical-align: top;\n",
       "    }\n",
       "\n",
       "    .dataframe thead th {\n",
       "        text-align: right;\n",
       "    }\n",
       "</style>\n",
       "<table border=\"1\" class=\"dataframe\">\n",
       "  <thead>\n",
       "    <tr style=\"text-align: right;\">\n",
       "      <th></th>\n",
       "      <th>best_bid_price</th>\n",
       "      <th>best_bid_qty</th>\n",
       "      <th>best_ask_price</th>\n",
       "      <th>best_ask_qty</th>\n",
       "      <th>mid_price</th>\n",
       "    </tr>\n",
       "  </thead>\n",
       "  <tbody>\n",
       "    <tr>\n",
       "      <th>0</th>\n",
       "      <td>0.6509</td>\n",
       "      <td>534.0</td>\n",
       "      <td>0.651</td>\n",
       "      <td>658.0</td>\n",
       "      <td>0.65095</td>\n",
       "    </tr>\n",
       "    <tr>\n",
       "      <th>1</th>\n",
       "      <td>0.6509</td>\n",
       "      <td>534.0</td>\n",
       "      <td>0.651</td>\n",
       "      <td>648.0</td>\n",
       "      <td>0.65095</td>\n",
       "    </tr>\n",
       "    <tr>\n",
       "      <th>2</th>\n",
       "      <td>0.6509</td>\n",
       "      <td>1244.0</td>\n",
       "      <td>0.651</td>\n",
       "      <td>648.0</td>\n",
       "      <td>0.65095</td>\n",
       "    </tr>\n",
       "    <tr>\n",
       "      <th>3</th>\n",
       "      <td>0.6509</td>\n",
       "      <td>1245.0</td>\n",
       "      <td>0.651</td>\n",
       "      <td>648.0</td>\n",
       "      <td>0.65095</td>\n",
       "    </tr>\n",
       "    <tr>\n",
       "      <th>4</th>\n",
       "      <td>0.6509</td>\n",
       "      <td>1243.0</td>\n",
       "      <td>0.651</td>\n",
       "      <td>648.0</td>\n",
       "      <td>0.65095</td>\n",
       "    </tr>\n",
       "  </tbody>\n",
       "</table>\n",
       "</div>"
      ],
      "text/plain": [
       "   best_bid_price  best_bid_qty  best_ask_price  best_ask_qty  mid_price\n",
       "0          0.6509         534.0           0.651         658.0    0.65095\n",
       "1          0.6509         534.0           0.651         648.0    0.65095\n",
       "2          0.6509        1244.0           0.651         648.0    0.65095\n",
       "3          0.6509        1245.0           0.651         648.0    0.65095\n",
       "4          0.6509        1243.0           0.651         648.0    0.65095"
      ]
     },
     "execution_count": 7,
     "metadata": {},
     "output_type": "execute_result"
    }
   ],
   "source": [
    "data = data.assign(mid_price=(data.best_bid_price + data.best_ask_price) / 2).head()\n",
    "data.head()"
   ]
  },
  {
   "cell_type": "code",
   "execution_count": null,
   "metadata": {},
   "outputs": [],
   "source": []
  }
 ],
 "metadata": {
  "kernelspec": {
   "display_name": "Python 3",
   "language": "python",
   "name": "python3"
  },
  "language_info": {
   "codemirror_mode": {
    "name": "ipython",
    "version": 3
   },
   "file_extension": ".py",
   "mimetype": "text/x-python",
   "name": "python",
   "nbconvert_exporter": "python",
   "pygments_lexer": "ipython3",
   "version": "3.11.9"
  }
 },
 "nbformat": 4,
 "nbformat_minor": 2
}
