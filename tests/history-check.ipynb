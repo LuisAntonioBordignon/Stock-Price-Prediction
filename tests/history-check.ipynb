{
 "cells": [
  {
   "cell_type": "markdown",
   "metadata": {},
   "source": [
    "# History check\n",
    "\n",
    "---"
   ]
  },
  {
   "cell_type": "code",
   "execution_count": 1,
   "metadata": {},
   "outputs": [],
   "source": [
    "import os\n",
    "import pandas as pd\n",
    "import matplotlib.pyplot as plt"
   ]
  },
  {
   "cell_type": "code",
   "execution_count": 2,
   "metadata": {},
   "outputs": [],
   "source": [
    "if os.getcwd().endswith(\"tests\"):\n",
    "    os.chdir(\"..\")"
   ]
  },
  {
   "cell_type": "code",
   "execution_count": 3,
   "metadata": {},
   "outputs": [],
   "source": [
    "MLP_ADA = pd.read_parquet(\"data/histories/MLP-ADA.parquet\")\n",
    "MLP_AXS = pd.read_parquet(\"data/histories/MLP-AXS.parquet\")\n",
    "MLP_BTC = pd.read_parquet(\"data/histories/MLP-BTC.parquet\")\n",
    "MLP_DOGE = pd.read_parquet(\"data/histories/MLP-DOGE.parquet\")\n",
    "MLP_NEAR = pd.read_parquet(\"data/histories/MLP-NEAR.parquet\")"
   ]
  },
  {
   "cell_type": "code",
   "execution_count": 4,
   "metadata": {},
   "outputs": [
    {
     "data": {
      "text/html": [
       "<div>\n",
       "<style scoped>\n",
       "    .dataframe tbody tr th:only-of-type {\n",
       "        vertical-align: middle;\n",
       "    }\n",
       "\n",
       "    .dataframe tbody tr th {\n",
       "        vertical-align: top;\n",
       "    }\n",
       "\n",
       "    .dataframe thead th {\n",
       "        text-align: right;\n",
       "    }\n",
       "</style>\n",
       "<table border=\"1\" class=\"dataframe\">\n",
       "  <thead>\n",
       "    <tr style=\"text-align: right;\">\n",
       "      <th></th>\n",
       "      <th>loss</th>\n",
       "      <th>mean_squared_error</th>\n",
       "      <th>val_loss</th>\n",
       "      <th>val_mean_squared_error</th>\n",
       "    </tr>\n",
       "  </thead>\n",
       "  <tbody>\n",
       "    <tr>\n",
       "      <th>0</th>\n",
       "      <td>9.876639e+02</td>\n",
       "      <td>9.876639e+02</td>\n",
       "      <td>3.716387e+03</td>\n",
       "      <td>3.716387e+03</td>\n",
       "    </tr>\n",
       "    <tr>\n",
       "      <th>0</th>\n",
       "      <td>1.150576e+02</td>\n",
       "      <td>1.150576e+02</td>\n",
       "      <td>1.373792e+02</td>\n",
       "      <td>1.373792e+02</td>\n",
       "    </tr>\n",
       "    <tr>\n",
       "      <th>0</th>\n",
       "      <td>4.319348e+09</td>\n",
       "      <td>4.319348e+09</td>\n",
       "      <td>4.007255e+09</td>\n",
       "      <td>4.007255e+09</td>\n",
       "    </tr>\n",
       "    <tr>\n",
       "      <th>0</th>\n",
       "      <td>9.432509e+03</td>\n",
       "      <td>9.432509e+03</td>\n",
       "      <td>1.644620e+03</td>\n",
       "      <td>1.644620e+03</td>\n",
       "    </tr>\n",
       "    <tr>\n",
       "      <th>0</th>\n",
       "      <td>2.344884e+02</td>\n",
       "      <td>2.344884e+02</td>\n",
       "      <td>1.465935e+02</td>\n",
       "      <td>1.465935e+02</td>\n",
       "    </tr>\n",
       "  </tbody>\n",
       "</table>\n",
       "</div>"
      ],
      "text/plain": [
       "           loss  mean_squared_error      val_loss  val_mean_squared_error\n",
       "0  9.876639e+02        9.876639e+02  3.716387e+03            3.716387e+03\n",
       "0  1.150576e+02        1.150576e+02  1.373792e+02            1.373792e+02\n",
       "0  4.319348e+09        4.319348e+09  4.007255e+09            4.007255e+09\n",
       "0  9.432509e+03        9.432509e+03  1.644620e+03            1.644620e+03\n",
       "0  2.344884e+02        2.344884e+02  1.465935e+02            1.465935e+02"
      ]
     },
     "execution_count": 4,
     "metadata": {},
     "output_type": "execute_result"
    }
   ],
   "source": [
    "MLP_ADA"
   ]
  },
  {
   "cell_type": "code",
   "execution_count": 6,
   "metadata": {},
   "outputs": [
    {
     "data": {
      "text/plain": [
       "[<matplotlib.lines.Line2D at 0x2a183111d50>]"
      ]
     },
     "execution_count": 6,
     "metadata": {},
     "output_type": "execute_result"
    },
    {
     "data": {
      "image/png": "[encoded data removed]",
      "text/plain": [
       "<Figure size 640x480 with 1 Axes>"
      ]
     },
     "metadata": {},
     "output_type": "display_data"
    }
   ],
   "source": [
    "plt.plot(range(len(MLP_ADA)),MLP_ADA[\"val_loss\"], label=\"ADA\")"
   ]
  },
  {
   "cell_type": "code",
   "execution_count": null,
   "metadata": {},
   "outputs": [],
   "source": []
  }
 ],
 "metadata": {
  "kernelspec": {
   "display_name": "Python 3",
   "language": "python",
   "name": "python3"
  },
  "language_info": {
   "codemirror_mode": {
    "name": "ipython",
    "version": 3
   },
   "file_extension": ".py",
   "mimetype": "text/x-python",
   "name": "python",
   "nbconvert_exporter": "python",
   "pygments_lexer": "ipython3",
   "version": "3.11.9"
  }
 },
 "nbformat": 4,
 "nbformat_minor": 2
}
