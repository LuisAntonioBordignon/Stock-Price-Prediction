{
 "cells": [
  {
   "cell_type": "markdown",
   "metadata": {},
   "source": [
    "# History check\n",
    "\n",
    "---"
   ]
  },
  {
   "cell_type": "code",
   "execution_count": 1,
   "metadata": {},
   "outputs": [],
   "source": [
    "import os\n",
    "import pandas as pd\n",
    "import matplotlib.pyplot as plt"
   ]
  },
  {
   "cell_type": "code",
   "execution_count": 3,
   "metadata": {},
   "outputs": [],
   "source": [
    "if os.getcwd().endswith(\"tests\"):\n",
    "    os.chdir(\"..\")"
   ]
  },
  {
   "cell_type": "code",
   "execution_count": 5,
   "metadata": {},
   "outputs": [],
   "source": [
    "MLP_ADA = pd.read_parquet(\"data/histories/MLP-ADA.parquet\")\n",
    "MLP_AXS = pd.read_parquet(\"data/histories/MLP-AXS.parquet\")\n",
    "MLP_BTC = pd.read_parquet(\"data/histories/MLP-BTC.parquet\")\n",
    "MLP_DOGE = pd.read_parquet(\"data/histories/MLP-DOGE.parquet\")\n",
    "MLP_NEAR = pd.read_parquet(\"data/histories/MLP-NEAR.parquet\")"
   ]
  },
  {
   "cell_type": "code",
   "execution_count": 7,
   "metadata": {},
   "outputs": [
    {
     "data": {
      "text/html": [
       "<div>\n",
       "<style scoped>\n",
       "    .dataframe tbody tr th:only-of-type {\n",
       "        vertical-align: middle;\n",
       "    }\n",
       "\n",
       "    .dataframe tbody tr th {\n",
       "        vertical-align: top;\n",
       "    }\n",
       "\n",
       "    .dataframe thead th {\n",
       "        text-align: right;\n",
       "    }\n",
       "</style>\n",
       "<table border=\"1\" class=\"dataframe\">\n",
       "  <thead>\n",
       "    <tr style=\"text-align: right;\">\n",
       "      <th></th>\n",
       "      <th>loss</th>\n",
       "      <th>mean_squared_error</th>\n",
       "      <th>val_loss</th>\n",
       "      <th>val_mean_squared_error</th>\n",
       "    </tr>\n",
       "  </thead>\n",
       "  <tbody>\n",
       "    <tr>\n",
       "      <th>0</th>\n",
       "      <td>1.234857e+03</td>\n",
       "      <td>1.234857e+03</td>\n",
       "      <td>2.574357e+03</td>\n",
       "      <td>2.574357e+03</td>\n",
       "    </tr>\n",
       "    <tr>\n",
       "      <th>0</th>\n",
       "      <td>4.888111e+01</td>\n",
       "      <td>4.888111e+01</td>\n",
       "      <td>4.941325e+01</td>\n",
       "      <td>4.941325e+01</td>\n",
       "    </tr>\n",
       "    <tr>\n",
       "      <th>0</th>\n",
       "      <td>4.195303e+09</td>\n",
       "      <td>4.195303e+09</td>\n",
       "      <td>3.841640e+09</td>\n",
       "      <td>3.841640e+09</td>\n",
       "    </tr>\n",
       "    <tr>\n",
       "      <th>0</th>\n",
       "      <td>3.621267e+03</td>\n",
       "      <td>3.621267e+03</td>\n",
       "      <td>6.391111e+02</td>\n",
       "      <td>6.391111e+02</td>\n",
       "    </tr>\n",
       "    <tr>\n",
       "      <th>0</th>\n",
       "      <td>6.037333e+01</td>\n",
       "      <td>6.037333e+01</td>\n",
       "      <td>4.484258e+01</td>\n",
       "      <td>4.484258e+01</td>\n",
       "    </tr>\n",
       "  </tbody>\n",
       "</table>\n",
       "</div>"
      ],
      "text/plain": [
       "           loss  mean_squared_error      val_loss  val_mean_squared_error\n",
       "0  1.234857e+03        1.234857e+03  2.574357e+03            2.574357e+03\n",
       "0  4.888111e+01        4.888111e+01  4.941325e+01            4.941325e+01\n",
       "0  4.195303e+09        4.195303e+09  3.841640e+09            3.841640e+09\n",
       "0  3.621267e+03        3.621267e+03  6.391111e+02            6.391111e+02\n",
       "0  6.037333e+01        6.037333e+01  4.484258e+01            4.484258e+01"
      ]
     },
     "execution_count": 7,
     "metadata": {},
     "output_type": "execute_result"
    }
   ],
   "source": [
    "MLP_ADA"
   ]
  },
  {
   "cell_type": "code",
   "execution_count": 9,
   "metadata": {},
   "outputs": [
    {
     "data": {
      "text/plain": [
       "[<matplotlib.lines.Line2D at 0x1f85f13bf50>]"
      ]
     },
     "execution_count": 9,
     "metadata": {},
     "output_type": "execute_result"
    },
    {
     "data": {
      "image/png": "[encoded data removed]",
      "text/plain": [
       "<Figure size 640x480 with 1 Axes>"
      ]
     },
     "metadata": {},
     "output_type": "display_data"
    }
   ],
   "source": [
    "plt.plot(MLP_BTC[\"val_loss\"], label=\"ADA\")"
   ]
  },
  {
   "cell_type": "code",
   "execution_count": null,
   "metadata": {},
   "outputs": [],
   "source": []
  }
 ],
 "metadata": {
  "kernelspec": {
   "display_name": "Python 3",
   "language": "python",
   "name": "python3"
  },
  "language_info": {
   "codemirror_mode": {
    "name": "ipython",
    "version": 3
   },
   "file_extension": ".py",
   "mimetype": "text/x-python",
   "name": "python",
   "nbconvert_exporter": "python",
   "pygments_lexer": "ipython3",
   "version": "3.11.9"
  }
 },
 "nbformat": 4,
 "nbformat_minor": 2
}
