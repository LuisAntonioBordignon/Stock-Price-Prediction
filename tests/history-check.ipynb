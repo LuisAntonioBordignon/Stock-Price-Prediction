{
 "cells": [
  {
   "cell_type": "markdown",
   "metadata": {},
   "source": [
    "# History check\n",
    "\n",
    "---"
   ]
  },
  {
   "cell_type": "code",
   "execution_count": 1,
   "metadata": {},
   "outputs": [],
   "source": [
    "import os\n",
    "import pandas as pd\n",
    "import matplotlib.pyplot as plt"
   ]
  },
  {
   "cell_type": "code",
   "execution_count": 2,
   "metadata": {},
   "outputs": [],
   "source": [
    "if os.getcwd().endswith(\"tests\"):\n",
    "    os.chdir(\"..\")"
   ]
  },
  {
   "cell_type": "code",
   "execution_count": 3,
   "metadata": {},
   "outputs": [],
   "source": [
    "MLP_ADA = pd.read_parquet(\"data/histories/MLP-ADA.parquet\")\n"
   ]
  },
  {
   "cell_type": "code",
   "execution_count": 4,
   "metadata": {},
   "outputs": [
    {
     "data": {
      "text/html": [
       "<div>\n",
       "<style scoped>\n",
       "    .dataframe tbody tr th:only-of-type {\n",
       "        vertical-align: middle;\n",
       "    }\n",
       "\n",
       "    .dataframe tbody tr th {\n",
       "        vertical-align: top;\n",
       "    }\n",
       "\n",
       "    .dataframe thead th {\n",
       "        text-align: right;\n",
       "    }\n",
       "</style>\n",
       "<table border=\"1\" class=\"dataframe\">\n",
       "  <thead>\n",
       "    <tr style=\"text-align: right;\">\n",
       "      <th></th>\n",
       "      <th>loss</th>\n",
       "      <th>mean_squared_error</th>\n",
       "      <th>val_loss</th>\n",
       "      <th>val_mean_squared_error</th>\n",
       "    </tr>\n",
       "  </thead>\n",
       "  <tbody>\n",
       "    <tr>\n",
       "      <th>0</th>\n",
       "      <td>258.097473</td>\n",
       "      <td>258.097473</td>\n",
       "      <td>2.125434</td>\n",
       "      <td>2.125434</td>\n",
       "    </tr>\n",
       "    <tr>\n",
       "      <th>1</th>\n",
       "      <td>2.119394</td>\n",
       "      <td>2.119394</td>\n",
       "      <td>2.125434</td>\n",
       "      <td>2.125434</td>\n",
       "    </tr>\n",
       "    <tr>\n",
       "      <th>2</th>\n",
       "      <td>2.119394</td>\n",
       "      <td>2.119394</td>\n",
       "      <td>2.125434</td>\n",
       "      <td>2.125434</td>\n",
       "    </tr>\n",
       "    <tr>\n",
       "      <th>3</th>\n",
       "      <td>2.119394</td>\n",
       "      <td>2.119394</td>\n",
       "      <td>2.125434</td>\n",
       "      <td>2.125434</td>\n",
       "    </tr>\n",
       "    <tr>\n",
       "      <th>4</th>\n",
       "      <td>2.119393</td>\n",
       "      <td>2.119393</td>\n",
       "      <td>2.125434</td>\n",
       "      <td>2.125434</td>\n",
       "    </tr>\n",
       "    <tr>\n",
       "      <th>0</th>\n",
       "      <td>2.173619</td>\n",
       "      <td>2.173619</td>\n",
       "      <td>2.195601</td>\n",
       "      <td>2.195601</td>\n",
       "    </tr>\n",
       "    <tr>\n",
       "      <th>1</th>\n",
       "      <td>2.173619</td>\n",
       "      <td>2.173619</td>\n",
       "      <td>2.195601</td>\n",
       "      <td>2.195601</td>\n",
       "    </tr>\n",
       "    <tr>\n",
       "      <th>2</th>\n",
       "      <td>2.173619</td>\n",
       "      <td>2.173619</td>\n",
       "      <td>2.195601</td>\n",
       "      <td>2.195601</td>\n",
       "    </tr>\n",
       "    <tr>\n",
       "      <th>3</th>\n",
       "      <td>2.173619</td>\n",
       "      <td>2.173619</td>\n",
       "      <td>2.195601</td>\n",
       "      <td>2.195601</td>\n",
       "    </tr>\n",
       "    <tr>\n",
       "      <th>4</th>\n",
       "      <td>2.173619</td>\n",
       "      <td>2.173619</td>\n",
       "      <td>2.195601</td>\n",
       "      <td>2.195601</td>\n",
       "    </tr>\n",
       "    <tr>\n",
       "      <th>0</th>\n",
       "      <td>2.195978</td>\n",
       "      <td>2.195978</td>\n",
       "      <td>2.197592</td>\n",
       "      <td>2.197592</td>\n",
       "    </tr>\n",
       "    <tr>\n",
       "      <th>1</th>\n",
       "      <td>2.195978</td>\n",
       "      <td>2.195978</td>\n",
       "      <td>2.197592</td>\n",
       "      <td>2.197592</td>\n",
       "    </tr>\n",
       "    <tr>\n",
       "      <th>2</th>\n",
       "      <td>2.195978</td>\n",
       "      <td>2.195978</td>\n",
       "      <td>2.197592</td>\n",
       "      <td>2.197592</td>\n",
       "    </tr>\n",
       "    <tr>\n",
       "      <th>3</th>\n",
       "      <td>2.195978</td>\n",
       "      <td>2.195978</td>\n",
       "      <td>2.197592</td>\n",
       "      <td>2.197592</td>\n",
       "    </tr>\n",
       "    <tr>\n",
       "      <th>4</th>\n",
       "      <td>2.195978</td>\n",
       "      <td>2.195978</td>\n",
       "      <td>2.197592</td>\n",
       "      <td>2.197592</td>\n",
       "    </tr>\n",
       "    <tr>\n",
       "      <th>0</th>\n",
       "      <td>2.177772</td>\n",
       "      <td>2.177772</td>\n",
       "      <td>2.157639</td>\n",
       "      <td>2.157639</td>\n",
       "    </tr>\n",
       "    <tr>\n",
       "      <th>1</th>\n",
       "      <td>2.177772</td>\n",
       "      <td>2.177772</td>\n",
       "      <td>2.157639</td>\n",
       "      <td>2.157639</td>\n",
       "    </tr>\n",
       "    <tr>\n",
       "      <th>2</th>\n",
       "      <td>2.177772</td>\n",
       "      <td>2.177772</td>\n",
       "      <td>2.157639</td>\n",
       "      <td>2.157639</td>\n",
       "    </tr>\n",
       "    <tr>\n",
       "      <th>3</th>\n",
       "      <td>2.177772</td>\n",
       "      <td>2.177772</td>\n",
       "      <td>2.157639</td>\n",
       "      <td>2.157639</td>\n",
       "    </tr>\n",
       "    <tr>\n",
       "      <th>4</th>\n",
       "      <td>2.177772</td>\n",
       "      <td>2.177772</td>\n",
       "      <td>2.157639</td>\n",
       "      <td>2.157639</td>\n",
       "    </tr>\n",
       "  </tbody>\n",
       "</table>\n",
       "</div>"
      ],
      "text/plain": [
       "         loss  mean_squared_error  val_loss  val_mean_squared_error\n",
       "0  258.097473          258.097473  2.125434                2.125434\n",
       "1    2.119394            2.119394  2.125434                2.125434\n",
       "2    2.119394            2.119394  2.125434                2.125434\n",
       "3    2.119394            2.119394  2.125434                2.125434\n",
       "4    2.119393            2.119393  2.125434                2.125434\n",
       "0    2.173619            2.173619  2.195601                2.195601\n",
       "1    2.173619            2.173619  2.195601                2.195601\n",
       "2    2.173619            2.173619  2.195601                2.195601\n",
       "3    2.173619            2.173619  2.195601                2.195601\n",
       "4    2.173619            2.173619  2.195601                2.195601\n",
       "0    2.195978            2.195978  2.197592                2.197592\n",
       "1    2.195978            2.195978  2.197592                2.197592\n",
       "2    2.195978            2.195978  2.197592                2.197592\n",
       "3    2.195978            2.195978  2.197592                2.197592\n",
       "4    2.195978            2.195978  2.197592                2.197592\n",
       "0    2.177772            2.177772  2.157639                2.157639\n",
       "1    2.177772            2.177772  2.157639                2.157639\n",
       "2    2.177772            2.177772  2.157639                2.157639\n",
       "3    2.177772            2.177772  2.157639                2.157639\n",
       "4    2.177772            2.177772  2.157639                2.157639"
      ]
     },
     "execution_count": 4,
     "metadata": {},
     "output_type": "execute_result"
    }
   ],
   "source": [
    "(MLP_ADA)"
   ]
  },
  {
   "cell_type": "code",
   "execution_count": 5,
   "metadata": {},
   "outputs": [
    {
     "data": {
      "text/plain": [
       "[<matplotlib.lines.Line2D at 0x26b80cb7990>]"
      ]
     },
     "execution_count": 5,
     "metadata": {},
     "output_type": "execute_result"
    },
    {
     "data": {
      "image/png": "[encoded data removed]",
      "text/plain": [
       "<Figure size 640x480 with 1 Axes>"
      ]
     },
     "metadata": {},
     "output_type": "display_data"
    }
   ],
   "source": [
    "plt.plot(range(len(MLP_ADA)),MLP_ADA[\"loss\"], label=\"ADA\", marker=\"o\")"
   ]
  },
  {
   "cell_type": "code",
   "execution_count": null,
   "metadata": {},
   "outputs": [],
   "source": []
  }
 ],
 "metadata": {
  "kernelspec": {
   "display_name": "Python 3",
   "language": "python",
   "name": "python3"
  },
  "language_info": {
   "codemirror_mode": {
    "name": "ipython",
    "version": 3
   },
   "file_extension": ".py",
   "mimetype": "text/x-python",
   "name": "python",
   "nbconvert_exporter": "python",
   "pygments_lexer": "ipython3",
   "version": "3.11.9"
  }
 },
 "nbformat": 4,
 "nbformat_minor": 2
}
