{
 "cells": [
  {
   "cell_type": "markdown",
   "metadata": {},
   "source": [
    "# History check\n",
    "\n",
    "---"
   ]
  },
  {
   "cell_type": "code",
   "execution_count": 2,
   "metadata": {},
   "outputs": [],
   "source": [
    "import os\n",
    "import pandas as pd\n",
    "import matplotlib.pyplot as plt"
   ]
  },
  {
   "cell_type": "code",
   "execution_count": 3,
   "metadata": {},
   "outputs": [],
   "source": [
    "if os.getcwd().endswith(\"tests\"):\n",
    "    os.chdir(\"..\")"
   ]
  },
  {
   "cell_type": "code",
   "execution_count": 4,
   "metadata": {},
   "outputs": [],
   "source": [
    "MLP_ADA = pd.read_parquet(\"data/histories/MLP-ADA.parquet\")\n"
   ]
  },
  {
   "cell_type": "code",
   "execution_count": 5,
   "metadata": {},
   "outputs": [
    {
     "data": {
      "text/html": [
       "<div>\n",
       "<style scoped>\n",
       "    .dataframe tbody tr th:only-of-type {\n",
       "        vertical-align: middle;\n",
       "    }\n",
       "\n",
       "    .dataframe tbody tr th {\n",
       "        vertical-align: top;\n",
       "    }\n",
       "\n",
       "    .dataframe thead th {\n",
       "        text-align: right;\n",
       "    }\n",
       "</style>\n",
       "<table border=\"1\" class=\"dataframe\">\n",
       "  <thead>\n",
       "    <tr style=\"text-align: right;\">\n",
       "      <th></th>\n",
       "      <th>loss</th>\n",
       "      <th>mean_squared_error</th>\n",
       "      <th>val_loss</th>\n",
       "      <th>val_mean_squared_error</th>\n",
       "    </tr>\n",
       "  </thead>\n",
       "  <tbody>\n",
       "    <tr>\n",
       "      <th>0</th>\n",
       "      <td>17.602379</td>\n",
       "      <td>17.602379</td>\n",
       "      <td>7.253301e-06</td>\n",
       "      <td>7.253301e-06</td>\n",
       "    </tr>\n",
       "    <tr>\n",
       "      <th>1</th>\n",
       "      <td>0.000011</td>\n",
       "      <td>0.000011</td>\n",
       "      <td>1.245638e-04</td>\n",
       "      <td>1.245638e-04</td>\n",
       "    </tr>\n",
       "    <tr>\n",
       "      <th>2</th>\n",
       "      <td>0.325942</td>\n",
       "      <td>0.325942</td>\n",
       "      <td>7.318625e-06</td>\n",
       "      <td>7.318625e-06</td>\n",
       "    </tr>\n",
       "    <tr>\n",
       "      <th>3</th>\n",
       "      <td>0.000008</td>\n",
       "      <td>0.000008</td>\n",
       "      <td>4.121140e-06</td>\n",
       "      <td>4.121140e-06</td>\n",
       "    </tr>\n",
       "    <tr>\n",
       "      <th>4</th>\n",
       "      <td>0.000015</td>\n",
       "      <td>0.000015</td>\n",
       "      <td>3.644352e-06</td>\n",
       "      <td>3.644352e-06</td>\n",
       "    </tr>\n",
       "    <tr>\n",
       "      <th>0</th>\n",
       "      <td>0.000180</td>\n",
       "      <td>0.000180</td>\n",
       "      <td>1.238243e-04</td>\n",
       "      <td>1.238243e-04</td>\n",
       "    </tr>\n",
       "    <tr>\n",
       "      <th>1</th>\n",
       "      <td>0.000175</td>\n",
       "      <td>0.000175</td>\n",
       "      <td>1.684989e-05</td>\n",
       "      <td>1.684989e-05</td>\n",
       "    </tr>\n",
       "    <tr>\n",
       "      <th>2</th>\n",
       "      <td>0.000180</td>\n",
       "      <td>0.000180</td>\n",
       "      <td>4.715925e-07</td>\n",
       "      <td>4.715925e-07</td>\n",
       "    </tr>\n",
       "    <tr>\n",
       "      <th>3</th>\n",
       "      <td>0.000177</td>\n",
       "      <td>0.000177</td>\n",
       "      <td>3.521399e-05</td>\n",
       "      <td>3.521399e-05</td>\n",
       "    </tr>\n",
       "    <tr>\n",
       "      <th>4</th>\n",
       "      <td>0.000175</td>\n",
       "      <td>0.000175</td>\n",
       "      <td>5.946260e-05</td>\n",
       "      <td>5.946260e-05</td>\n",
       "    </tr>\n",
       "    <tr>\n",
       "      <th>0</th>\n",
       "      <td>0.000012</td>\n",
       "      <td>0.000012</td>\n",
       "      <td>2.167588e-05</td>\n",
       "      <td>2.167588e-05</td>\n",
       "    </tr>\n",
       "    <tr>\n",
       "      <th>1</th>\n",
       "      <td>0.000012</td>\n",
       "      <td>0.000012</td>\n",
       "      <td>9.941969e-07</td>\n",
       "      <td>9.941969e-07</td>\n",
       "    </tr>\n",
       "    <tr>\n",
       "      <th>2</th>\n",
       "      <td>0.000012</td>\n",
       "      <td>0.000012</td>\n",
       "      <td>8.303568e-06</td>\n",
       "      <td>8.303568e-06</td>\n",
       "    </tr>\n",
       "    <tr>\n",
       "      <th>3</th>\n",
       "      <td>0.000012</td>\n",
       "      <td>0.000012</td>\n",
       "      <td>2.831415e-06</td>\n",
       "      <td>2.831415e-06</td>\n",
       "    </tr>\n",
       "    <tr>\n",
       "      <th>4</th>\n",
       "      <td>0.000012</td>\n",
       "      <td>0.000012</td>\n",
       "      <td>6.364312e-05</td>\n",
       "      <td>6.364312e-05</td>\n",
       "    </tr>\n",
       "    <tr>\n",
       "      <th>0</th>\n",
       "      <td>0.000046</td>\n",
       "      <td>0.000046</td>\n",
       "      <td>3.197540e-06</td>\n",
       "      <td>3.197540e-06</td>\n",
       "    </tr>\n",
       "    <tr>\n",
       "      <th>1</th>\n",
       "      <td>0.000047</td>\n",
       "      <td>0.000047</td>\n",
       "      <td>1.335025e-05</td>\n",
       "      <td>1.335025e-05</td>\n",
       "    </tr>\n",
       "    <tr>\n",
       "      <th>2</th>\n",
       "      <td>0.000046</td>\n",
       "      <td>0.000046</td>\n",
       "      <td>4.135486e-05</td>\n",
       "      <td>4.135486e-05</td>\n",
       "    </tr>\n",
       "    <tr>\n",
       "      <th>3</th>\n",
       "      <td>0.000047</td>\n",
       "      <td>0.000047</td>\n",
       "      <td>3.616647e-05</td>\n",
       "      <td>3.616647e-05</td>\n",
       "    </tr>\n",
       "    <tr>\n",
       "      <th>4</th>\n",
       "      <td>0.000046</td>\n",
       "      <td>0.000046</td>\n",
       "      <td>1.976206e-04</td>\n",
       "      <td>1.976206e-04</td>\n",
       "    </tr>\n",
       "  </tbody>\n",
       "</table>\n",
       "</div>"
      ],
      "text/plain": [
       "        loss  mean_squared_error      val_loss  val_mean_squared_error\n",
       "0  17.602379           17.602379  7.253301e-06            7.253301e-06\n",
       "1   0.000011            0.000011  1.245638e-04            1.245638e-04\n",
       "2   0.325942            0.325942  7.318625e-06            7.318625e-06\n",
       "3   0.000008            0.000008  4.121140e-06            4.121140e-06\n",
       "4   0.000015            0.000015  3.644352e-06            3.644352e-06\n",
       "0   0.000180            0.000180  1.238243e-04            1.238243e-04\n",
       "1   0.000175            0.000175  1.684989e-05            1.684989e-05\n",
       "2   0.000180            0.000180  4.715925e-07            4.715925e-07\n",
       "3   0.000177            0.000177  3.521399e-05            3.521399e-05\n",
       "4   0.000175            0.000175  5.946260e-05            5.946260e-05\n",
       "0   0.000012            0.000012  2.167588e-05            2.167588e-05\n",
       "1   0.000012            0.000012  9.941969e-07            9.941969e-07\n",
       "2   0.000012            0.000012  8.303568e-06            8.303568e-06\n",
       "3   0.000012            0.000012  2.831415e-06            2.831415e-06\n",
       "4   0.000012            0.000012  6.364312e-05            6.364312e-05\n",
       "0   0.000046            0.000046  3.197540e-06            3.197540e-06\n",
       "1   0.000047            0.000047  1.335025e-05            1.335025e-05\n",
       "2   0.000046            0.000046  4.135486e-05            4.135486e-05\n",
       "3   0.000047            0.000047  3.616647e-05            3.616647e-05\n",
       "4   0.000046            0.000046  1.976206e-04            1.976206e-04"
      ]
     },
     "execution_count": 5,
     "metadata": {},
     "output_type": "execute_result"
    }
   ],
   "source": [
    "(MLP_ADA)"
   ]
  },
  {
   "cell_type": "code",
   "execution_count": 6,
   "metadata": {},
   "outputs": [
    {
     "data": {
      "text/plain": [
       "[<matplotlib.lines.Line2D at 0x1c856da4290>]"
      ]
     },
     "execution_count": 6,
     "metadata": {},
     "output_type": "execute_result"
    },
    {
     "data": {
      "image/png": "[encoded data removed]",
      "text/plain": [
       "<Figure size 640x480 with 1 Axes>"
      ]
     },
     "metadata": {},
     "output_type": "display_data"
    }
   ],
   "source": [
    "plt.plot(range(len(MLP_ADA)),MLP_ADA[\"loss\"], label=\"ADA\", marker=\"o\")"
   ]
  },
  {
   "cell_type": "code",
   "execution_count": null,
   "metadata": {},
   "outputs": [],
   "source": []
  }
 ],
 "metadata": {
  "kernelspec": {
   "display_name": "Python 3",
   "language": "python",
   "name": "python3"
  },
  "language_info": {
   "codemirror_mode": {
    "name": "ipython",
    "version": 3
   },
   "file_extension": ".py",
   "mimetype": "text/x-python",
   "name": "python",
   "nbconvert_exporter": "python",
   "pygments_lexer": "ipython3",
   "version": "3.11.9"
  }
 },
 "nbformat": 4,
 "nbformat_minor": 2
}
