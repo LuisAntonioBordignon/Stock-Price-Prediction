{
 "cells": [
  {
   "cell_type": "code",
   "execution_count": 2,
   "metadata": {},
   "outputs": [],
   "source": [
    "import os\n",
    "\n",
    "import pandas as pd\n",
    "import matplotlib.pyplot as plt\n",
    "from sklearn.preprocessing import MinMaxScaler\n",
    "\n",
    "if os.getcwd().endswith(\"tests\"):\n",
    "    os.chdir(\"..\")"
   ]
  },
  {
   "cell_type": "code",
   "execution_count": 3,
   "metadata": {},
   "outputs": [],
   "source": [
    "ticket = \"DOGE\"\n",
    "\n",
    "CRIPTO_1 = pd.read_csv(f\"data/{ticket}/{ticket}USD_PERP-bookTicker-2024-04-01.csv\", usecols=[\"best_ask_price\", \"best_ask_qty\", \"best_bid_price\", \"best_bid_qty\", \"event_time\"])\n",
    "CRIPTO_2 = pd.read_csv(f\"data/{ticket}/{ticket}USD_PERP-bookTicker-2024-04-02.csv\", usecols=[\"best_ask_price\", \"best_ask_qty\", \"best_bid_price\", \"best_bid_qty\", \"event_time\"])\n",
    "CRIPTO_3 = pd.read_csv(f\"data/{ticket}/{ticket}USD_PERP-bookTicker-2024-04-03.csv\", usecols=[\"best_ask_price\", \"best_ask_qty\", \"best_bid_price\", \"best_bid_qty\", \"event_time\"])\n",
    "CRIPTO_4 = pd.read_csv(f\"data/{ticket}/{ticket}USD_PERP-bookTicker-2024-04-04.csv\", usecols=[\"best_ask_price\", \"best_ask_qty\", \"best_bid_price\", \"best_bid_qty\", \"event_time\"])\n",
    "CRIPTO_5 = pd.read_csv(f\"data/{ticket}/{ticket}USD_PERP-bookTicker-2024-04-05.csv\", usecols=[\"best_ask_price\", \"best_ask_qty\", \"best_bid_price\", \"best_bid_qty\", \"event_time\"])\n",
    "CRIPTO_6 = pd.read_csv(f\"data/{ticket}/{ticket}USD_PERP-bookTicker-2024-04-06.csv\", usecols=[\"best_ask_price\", \"best_ask_qty\", \"best_bid_price\", \"best_bid_qty\", \"event_time\"])\n",
    "CRIPTO_7 = pd.read_csv(f\"data/{ticket}/{ticket}USD_PERP-bookTicker-2024-04-07.csv\", usecols=[\"best_ask_price\", \"best_ask_qty\", \"best_bid_price\", \"best_bid_qty\", \"event_time\"])"
   ]
  },
  {
   "cell_type": "code",
   "execution_count": 4,
   "metadata": {},
   "outputs": [
    {
     "data": {
      "text/html": [
       "<div>\n",
       "<style scoped>\n",
       "    .dataframe tbody tr th:only-of-type {\n",
       "        vertical-align: middle;\n",
       "    }\n",
       "\n",
       "    .dataframe tbody tr th {\n",
       "        vertical-align: top;\n",
       "    }\n",
       "\n",
       "    .dataframe thead th {\n",
       "        text-align: right;\n",
       "    }\n",
       "</style>\n",
       "<table border=\"1\" class=\"dataframe\">\n",
       "  <thead>\n",
       "    <tr style=\"text-align: right;\">\n",
       "      <th></th>\n",
       "      <th>best_bid_price</th>\n",
       "      <th>best_bid_qty</th>\n",
       "      <th>best_ask_price</th>\n",
       "      <th>best_ask_qty</th>\n",
       "      <th>event_time</th>\n",
       "    </tr>\n",
       "  </thead>\n",
       "  <tbody>\n",
       "    <tr>\n",
       "      <th>0</th>\n",
       "      <td>0.22033</td>\n",
       "      <td>467.0</td>\n",
       "      <td>0.22034</td>\n",
       "      <td>1024.0</td>\n",
       "      <td>1711929600352</td>\n",
       "    </tr>\n",
       "    <tr>\n",
       "      <th>1</th>\n",
       "      <td>0.22033</td>\n",
       "      <td>467.0</td>\n",
       "      <td>0.22034</td>\n",
       "      <td>1015.0</td>\n",
       "      <td>1711929600356</td>\n",
       "    </tr>\n",
       "    <tr>\n",
       "      <th>2</th>\n",
       "      <td>0.22033</td>\n",
       "      <td>467.0</td>\n",
       "      <td>0.22034</td>\n",
       "      <td>1006.0</td>\n",
       "      <td>1711929600357</td>\n",
       "    </tr>\n",
       "    <tr>\n",
       "      <th>3</th>\n",
       "      <td>0.22033</td>\n",
       "      <td>467.0</td>\n",
       "      <td>0.22034</td>\n",
       "      <td>851.0</td>\n",
       "      <td>1711929600371</td>\n",
       "    </tr>\n",
       "    <tr>\n",
       "      <th>4</th>\n",
       "      <td>0.22033</td>\n",
       "      <td>467.0</td>\n",
       "      <td>0.22034</td>\n",
       "      <td>601.0</td>\n",
       "      <td>1711929600891</td>\n",
       "    </tr>\n",
       "  </tbody>\n",
       "</table>\n",
       "</div>"
      ],
      "text/plain": [
       "   best_bid_price  best_bid_qty  best_ask_price  best_ask_qty     event_time\n",
       "0         0.22033         467.0         0.22034        1024.0  1711929600352\n",
       "1         0.22033         467.0         0.22034        1015.0  1711929600356\n",
       "2         0.22033         467.0         0.22034        1006.0  1711929600357\n",
       "3         0.22033         467.0         0.22034         851.0  1711929600371\n",
       "4         0.22033         467.0         0.22034         601.0  1711929600891"
      ]
     },
     "execution_count": 4,
     "metadata": {},
     "output_type": "execute_result"
    }
   ],
   "source": [
    "CRIPTO_1.head() # USAR ESSAS 4 FEATUERES PRA PREVER O MID PRICE DO FUTURO! E O PRÓPRIO PREÇO!"
   ]
  },
  {
   "cell_type": "code",
   "execution_count": 5,
   "metadata": {},
   "outputs": [
    {
     "data": {
      "text/html": [
       "<div>\n",
       "<style scoped>\n",
       "    .dataframe tbody tr th:only-of-type {\n",
       "        vertical-align: middle;\n",
       "    }\n",
       "\n",
       "    .dataframe tbody tr th {\n",
       "        vertical-align: top;\n",
       "    }\n",
       "\n",
       "    .dataframe thead th {\n",
       "        text-align: right;\n",
       "    }\n",
       "</style>\n",
       "<table border=\"1\" class=\"dataframe\">\n",
       "  <thead>\n",
       "    <tr style=\"text-align: right;\">\n",
       "      <th></th>\n",
       "      <th>best_bid_price</th>\n",
       "      <th>best_bid_qty</th>\n",
       "      <th>best_ask_price</th>\n",
       "      <th>best_ask_qty</th>\n",
       "      <th>event_time</th>\n",
       "    </tr>\n",
       "  </thead>\n",
       "  <tbody>\n",
       "    <tr>\n",
       "      <th>0</th>\n",
       "      <td>0.22033</td>\n",
       "      <td>467.0</td>\n",
       "      <td>0.22034</td>\n",
       "      <td>1024.0</td>\n",
       "      <td>1711929600352</td>\n",
       "    </tr>\n",
       "    <tr>\n",
       "      <th>1</th>\n",
       "      <td>0.22033</td>\n",
       "      <td>467.0</td>\n",
       "      <td>0.22034</td>\n",
       "      <td>1015.0</td>\n",
       "      <td>1711929600356</td>\n",
       "    </tr>\n",
       "    <tr>\n",
       "      <th>2</th>\n",
       "      <td>0.22033</td>\n",
       "      <td>467.0</td>\n",
       "      <td>0.22034</td>\n",
       "      <td>1006.0</td>\n",
       "      <td>1711929600357</td>\n",
       "    </tr>\n",
       "    <tr>\n",
       "      <th>3</th>\n",
       "      <td>0.22033</td>\n",
       "      <td>467.0</td>\n",
       "      <td>0.22034</td>\n",
       "      <td>851.0</td>\n",
       "      <td>1711929600371</td>\n",
       "    </tr>\n",
       "    <tr>\n",
       "      <th>4</th>\n",
       "      <td>0.22033</td>\n",
       "      <td>467.0</td>\n",
       "      <td>0.22034</td>\n",
       "      <td>601.0</td>\n",
       "      <td>1711929600891</td>\n",
       "    </tr>\n",
       "  </tbody>\n",
       "</table>\n",
       "</div>"
      ],
      "text/plain": [
       "   best_bid_price  best_bid_qty  best_ask_price  best_ask_qty     event_time\n",
       "0         0.22033         467.0         0.22034        1024.0  1711929600352\n",
       "1         0.22033         467.0         0.22034        1015.0  1711929600356\n",
       "2         0.22033         467.0         0.22034        1006.0  1711929600357\n",
       "3         0.22033         467.0         0.22034         851.0  1711929600371\n",
       "4         0.22033         467.0         0.22034         601.0  1711929600891"
      ]
     },
     "execution_count": 5,
     "metadata": {},
     "output_type": "execute_result"
    }
   ],
   "source": [
    "CRIPTO = pd.concat([CRIPTO_1, CRIPTO_2, CRIPTO_3, CRIPTO_4, CRIPTO_5, CRIPTO_6, CRIPTO_7], copy=False)\n",
    "CRIPTO.head()"
   ]
  },
  {
   "cell_type": "code",
   "execution_count": 6,
   "metadata": {},
   "outputs": [
    {
     "name": "stdout",
     "output_type": "stream",
     "text": [
      "16582091\n"
     ]
    },
    {
     "data": {
      "text/html": [
       "<div>\n",
       "<style scoped>\n",
       "    .dataframe tbody tr th:only-of-type {\n",
       "        vertical-align: middle;\n",
       "    }\n",
       "\n",
       "    .dataframe tbody tr th {\n",
       "        vertical-align: top;\n",
       "    }\n",
       "\n",
       "    .dataframe thead th {\n",
       "        text-align: right;\n",
       "    }\n",
       "</style>\n",
       "<table border=\"1\" class=\"dataframe\">\n",
       "  <thead>\n",
       "    <tr style=\"text-align: right;\">\n",
       "      <th></th>\n",
       "      <th>best_bid_price</th>\n",
       "      <th>best_bid_qty</th>\n",
       "      <th>best_ask_price</th>\n",
       "      <th>best_ask_qty</th>\n",
       "      <th>event_time</th>\n",
       "      <th>mid_price</th>\n",
       "    </tr>\n",
       "  </thead>\n",
       "  <tbody>\n",
       "    <tr>\n",
       "      <th>0</th>\n",
       "      <td>0.22033</td>\n",
       "      <td>467.0</td>\n",
       "      <td>0.22034</td>\n",
       "      <td>1024.0</td>\n",
       "      <td>1711929600352</td>\n",
       "      <td>0.220335</td>\n",
       "    </tr>\n",
       "    <tr>\n",
       "      <th>1</th>\n",
       "      <td>0.22033</td>\n",
       "      <td>467.0</td>\n",
       "      <td>0.22034</td>\n",
       "      <td>1015.0</td>\n",
       "      <td>1711929600356</td>\n",
       "      <td>0.220335</td>\n",
       "    </tr>\n",
       "    <tr>\n",
       "      <th>2</th>\n",
       "      <td>0.22033</td>\n",
       "      <td>467.0</td>\n",
       "      <td>0.22034</td>\n",
       "      <td>1006.0</td>\n",
       "      <td>1711929600357</td>\n",
       "      <td>0.220335</td>\n",
       "    </tr>\n",
       "    <tr>\n",
       "      <th>3</th>\n",
       "      <td>0.22033</td>\n",
       "      <td>467.0</td>\n",
       "      <td>0.22034</td>\n",
       "      <td>851.0</td>\n",
       "      <td>1711929600371</td>\n",
       "      <td>0.220335</td>\n",
       "    </tr>\n",
       "    <tr>\n",
       "      <th>4</th>\n",
       "      <td>0.22033</td>\n",
       "      <td>467.0</td>\n",
       "      <td>0.22034</td>\n",
       "      <td>601.0</td>\n",
       "      <td>1711929600891</td>\n",
       "      <td>0.220335</td>\n",
       "    </tr>\n",
       "  </tbody>\n",
       "</table>\n",
       "</div>"
      ],
      "text/plain": [
       "   best_bid_price  best_bid_qty  best_ask_price  best_ask_qty     event_time  \\\n",
       "0         0.22033         467.0         0.22034        1024.0  1711929600352   \n",
       "1         0.22033         467.0         0.22034        1015.0  1711929600356   \n",
       "2         0.22033         467.0         0.22034        1006.0  1711929600357   \n",
       "3         0.22033         467.0         0.22034         851.0  1711929600371   \n",
       "4         0.22033         467.0         0.22034         601.0  1711929600891   \n",
       "\n",
       "   mid_price  \n",
       "0   0.220335  \n",
       "1   0.220335  \n",
       "2   0.220335  \n",
       "3   0.220335  \n",
       "4   0.220335  "
      ]
     },
     "execution_count": 6,
     "metadata": {},
     "output_type": "execute_result"
    }
   ],
   "source": [
    "CRIPTO[\"mid_price\"] = (CRIPTO[\"best_ask_price\"] + CRIPTO[\"best_bid_price\"]) / 2\n",
    "\n",
    "print(len(CRIPTO))\n",
    "CRIPTO.head()"
   ]
  },
  {
   "cell_type": "code",
   "execution_count": 7,
   "metadata": {},
   "outputs": [
    {
     "data": {
      "text/plain": [
       "[<matplotlib.lines.Line2D at 0x152e28ec610>]"
      ]
     },
     "execution_count": 7,
     "metadata": {},
     "output_type": "execute_result"
    },
    {
     "data": {
      "image/png": "[encoded data removed]",
      "text/plain": [
       "<Figure size 640x480 with 1 Axes>"
      ]
     },
     "metadata": {},
     "output_type": "display_data"
    }
   ],
   "source": [
    "plt.plot(CRIPTO[\"mid_price\"])"
   ]
  },
  {
   "cell_type": "code",
   "execution_count": 8,
   "metadata": {},
   "outputs": [
    {
     "ename": "KeyError",
     "evalue": "'spread'",
     "output_type": "error",
     "traceback": [
      "\u001b[1;31m---------------------------------------------------------------------------\u001b[0m",
      "\u001b[1;31mKeyError\u001b[0m                                  Traceback (most recent call last)",
      "File \u001b[1;32m~\\AppData\\Local\\Packages\\PythonSoftwareFoundation.Python.3.11_qbz5n2kfra8p0\\LocalCache\\local-packages\\Python311\\site-packages\\pandas\\core\\indexes\\base.py:3805\u001b[0m, in \u001b[0;36mIndex.get_loc\u001b[1;34m(self, key)\u001b[0m\n\u001b[0;32m   3804\u001b[0m \u001b[38;5;28;01mtry\u001b[39;00m:\n\u001b[1;32m-> 3805\u001b[0m     \u001b[38;5;28;01mreturn\u001b[39;00m \u001b[38;5;28;43mself\u001b[39;49m\u001b[38;5;241;43m.\u001b[39;49m\u001b[43m_engine\u001b[49m\u001b[38;5;241;43m.\u001b[39;49m\u001b[43mget_loc\u001b[49m\u001b[43m(\u001b[49m\u001b[43mcasted_key\u001b[49m\u001b[43m)\u001b[49m\n\u001b[0;32m   3806\u001b[0m \u001b[38;5;28;01mexcept\u001b[39;00m \u001b[38;5;167;01mKeyError\u001b[39;00m \u001b[38;5;28;01mas\u001b[39;00m err:\n",
      "File \u001b[1;32mindex.pyx:167\u001b[0m, in \u001b[0;36mpandas._libs.index.IndexEngine.get_loc\u001b[1;34m()\u001b[0m\n",
      "File \u001b[1;32mindex.pyx:196\u001b[0m, in \u001b[0;36mpandas._libs.index.IndexEngine.get_loc\u001b[1;34m()\u001b[0m\n",
      "File \u001b[1;32mpandas\\\\_libs\\\\hashtable_class_helper.pxi:7081\u001b[0m, in \u001b[0;36mpandas._libs.hashtable.PyObjectHashTable.get_item\u001b[1;34m()\u001b[0m\n",
      "File \u001b[1;32mpandas\\\\_libs\\\\hashtable_class_helper.pxi:7089\u001b[0m, in \u001b[0;36mpandas._libs.hashtable.PyObjectHashTable.get_item\u001b[1;34m()\u001b[0m\n",
      "\u001b[1;31mKeyError\u001b[0m: 'spread'",
      "\nThe above exception was the direct cause of the following exception:\n",
      "\u001b[1;31mKeyError\u001b[0m                                  Traceback (most recent call last)",
      "Cell \u001b[1;32mIn[8], line 1\u001b[0m\n\u001b[1;32m----> 1\u001b[0m plt\u001b[38;5;241m.\u001b[39mplot(\u001b[43mCRIPTO\u001b[49m\u001b[43m[\u001b[49m\u001b[38;5;124;43m\"\u001b[39;49m\u001b[38;5;124;43mspread\u001b[39;49m\u001b[38;5;124;43m\"\u001b[39;49m\u001b[43m]\u001b[49m)\n",
      "File \u001b[1;32m~\\AppData\\Local\\Packages\\PythonSoftwareFoundation.Python.3.11_qbz5n2kfra8p0\\LocalCache\\local-packages\\Python311\\site-packages\\pandas\\core\\frame.py:4102\u001b[0m, in \u001b[0;36mDataFrame.__getitem__\u001b[1;34m(self, key)\u001b[0m\n\u001b[0;32m   4100\u001b[0m \u001b[38;5;28;01mif\u001b[39;00m \u001b[38;5;28mself\u001b[39m\u001b[38;5;241m.\u001b[39mcolumns\u001b[38;5;241m.\u001b[39mnlevels \u001b[38;5;241m>\u001b[39m \u001b[38;5;241m1\u001b[39m:\n\u001b[0;32m   4101\u001b[0m     \u001b[38;5;28;01mreturn\u001b[39;00m \u001b[38;5;28mself\u001b[39m\u001b[38;5;241m.\u001b[39m_getitem_multilevel(key)\n\u001b[1;32m-> 4102\u001b[0m indexer \u001b[38;5;241m=\u001b[39m \u001b[38;5;28;43mself\u001b[39;49m\u001b[38;5;241;43m.\u001b[39;49m\u001b[43mcolumns\u001b[49m\u001b[38;5;241;43m.\u001b[39;49m\u001b[43mget_loc\u001b[49m\u001b[43m(\u001b[49m\u001b[43mkey\u001b[49m\u001b[43m)\u001b[49m\n\u001b[0;32m   4103\u001b[0m \u001b[38;5;28;01mif\u001b[39;00m is_integer(indexer):\n\u001b[0;32m   4104\u001b[0m     indexer \u001b[38;5;241m=\u001b[39m [indexer]\n",
      "File \u001b[1;32m~\\AppData\\Local\\Packages\\PythonSoftwareFoundation.Python.3.11_qbz5n2kfra8p0\\LocalCache\\local-packages\\Python311\\site-packages\\pandas\\core\\indexes\\base.py:3812\u001b[0m, in \u001b[0;36mIndex.get_loc\u001b[1;34m(self, key)\u001b[0m\n\u001b[0;32m   3807\u001b[0m     \u001b[38;5;28;01mif\u001b[39;00m \u001b[38;5;28misinstance\u001b[39m(casted_key, \u001b[38;5;28mslice\u001b[39m) \u001b[38;5;129;01mor\u001b[39;00m (\n\u001b[0;32m   3808\u001b[0m         \u001b[38;5;28misinstance\u001b[39m(casted_key, abc\u001b[38;5;241m.\u001b[39mIterable)\n\u001b[0;32m   3809\u001b[0m         \u001b[38;5;129;01mand\u001b[39;00m \u001b[38;5;28many\u001b[39m(\u001b[38;5;28misinstance\u001b[39m(x, \u001b[38;5;28mslice\u001b[39m) \u001b[38;5;28;01mfor\u001b[39;00m x \u001b[38;5;129;01min\u001b[39;00m casted_key)\n\u001b[0;32m   3810\u001b[0m     ):\n\u001b[0;32m   3811\u001b[0m         \u001b[38;5;28;01mraise\u001b[39;00m InvalidIndexError(key)\n\u001b[1;32m-> 3812\u001b[0m     \u001b[38;5;28;01mraise\u001b[39;00m \u001b[38;5;167;01mKeyError\u001b[39;00m(key) \u001b[38;5;28;01mfrom\u001b[39;00m \u001b[38;5;21;01merr\u001b[39;00m\n\u001b[0;32m   3813\u001b[0m \u001b[38;5;28;01mexcept\u001b[39;00m \u001b[38;5;167;01mTypeError\u001b[39;00m:\n\u001b[0;32m   3814\u001b[0m     \u001b[38;5;66;03m# If we have a listlike key, _check_indexing_error will raise\u001b[39;00m\n\u001b[0;32m   3815\u001b[0m     \u001b[38;5;66;03m#  InvalidIndexError. Otherwise we fall through and re-raise\u001b[39;00m\n\u001b[0;32m   3816\u001b[0m     \u001b[38;5;66;03m#  the TypeError.\u001b[39;00m\n\u001b[0;32m   3817\u001b[0m     \u001b[38;5;28mself\u001b[39m\u001b[38;5;241m.\u001b[39m_check_indexing_error(key)\n",
      "\u001b[1;31mKeyError\u001b[0m: 'spread'"
     ]
    }
   ],
   "source": [
    "plt.plot(CRIPTO[\"spread\"])\n"
   ]
  }
 ],
 "metadata": {
  "kernelspec": {
   "display_name": "Python 3",
   "language": "python",
   "name": "python3"
  },
  "language_info": {
   "codemirror_mode": {
    "name": "ipython",
    "version": 3
   },
   "file_extension": ".py",
   "mimetype": "text/x-python",
   "name": "python",
   "nbconvert_exporter": "python",
   "pygments_lexer": "ipython3",
   "version": "3.11.9"
  }
 },
 "nbformat": 4,
 "nbformat_minor": 2
}
